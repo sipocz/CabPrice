{
  "nbformat": 4,
  "nbformat_minor": 0,
  "metadata": {
    "colab": {
      "name": "CabPrice.ipynb",
      "provenance": [],
      "collapsed_sections": [],
      "authorship_tag": "ABX9TyPpS9N7ekNrDFxfV9nXWcI3",
      "include_colab_link": true
    },
    "kernelspec": {
      "name": "python3",
      "display_name": "Python 3"
    },
    "language_info": {
      "name": "python"
    }
  },
  "cells": [
    {
      "cell_type": "markdown",
      "metadata": {
        "id": "view-in-github",
        "colab_type": "text"
      },
      "source": [
        "<a href=\"https://colab.research.google.com/github/sipocz/CabPrice/blob/B20210516/CabPrice.ipynb\" target=\"_parent\"><img src=\"https://colab.research.google.com/assets/colab-badge.svg\" alt=\"Open In Colab\"/></a>"
      ]
    },
    {
      "cell_type": "code",
      "metadata": {
        "colab": {
          "base_uri": "https://localhost:8080/"
        },
        "id": "yFCp5bjWtNiv",
        "outputId": "335de50a-e674-4060-f9ae-71a0978f16bd"
      },
      "source": [
        "!wget https://github.com/sipocz/CabPrice/raw/B20210507/TRAIN.csv"
      ],
      "execution_count": 130,
      "outputs": [
        {
          "output_type": "stream",
          "text": [
            "--2021-05-16 19:33:21--  https://github.com/sipocz/CabPrice/raw/B20210507/TRAIN.csv\n",
            "Resolving github.com (github.com)... 52.192.72.89\n",
            "Connecting to github.com (github.com)|52.192.72.89|:443... connected.\n",
            "HTTP request sent, awaiting response... 302 Found\n",
            "Location: https://raw.githubusercontent.com/sipocz/CabPrice/B20210507/TRAIN.csv [following]\n",
            "--2021-05-16 19:33:21--  https://raw.githubusercontent.com/sipocz/CabPrice/B20210507/TRAIN.csv\n",
            "Resolving raw.githubusercontent.com (raw.githubusercontent.com)... 185.199.108.133, 185.199.109.133, 185.199.110.133, ...\n",
            "Connecting to raw.githubusercontent.com (raw.githubusercontent.com)|185.199.108.133|:443... connected.\n",
            "HTTP request sent, awaiting response... 200 OK\n",
            "Length: 7524003 (7.2M) [text/plain]\n",
            "Saving to: ‘TRAIN.csv.3’\n",
            "\n",
            "TRAIN.csv.3         100%[===================>]   7.17M  26.2MB/s    in 0.3s    \n",
            "\n",
            "2021-05-16 19:33:22 (26.2 MB/s) - ‘TRAIN.csv.3’ saved [7524003/7524003]\n",
            "\n"
          ],
          "name": "stdout"
        }
      ]
    },
    {
      "cell_type": "code",
      "metadata": {
        "colab": {
          "base_uri": "https://localhost:8080/"
        },
        "id": "Pv7zKOJOtWN_",
        "outputId": "a8ff5e87-3860-4ef3-952b-1645de6dc18e"
      },
      "source": [
        "!head TRAIN.csv"
      ],
      "execution_count": 131,
      "outputs": [
        {
          "output_type": "stream",
          "text": [
            "index,time_stamp,cab_provider,source,destination,distance,surge_multiplier,cab_type,fare\r\n",
            "0,1543203646318,Lyft,Boston University,Theatre District,3.03,1.0,Lux Black XL,34.0\r\n",
            "1,1543203646319,Uber,South Station,Theatre District,1.3,1.0,Black,18.5\r\n",
            "2,1543203646320,Uber,Theatre District,Fenway,2.71,1.0,UberX,19.5\r\n",
            "3,1543203646320,Lyft,Northeastern University,Beacon Hill,2.43,1.0,Lyft,10.5\r\n",
            "4,1543203646320,Uber,Theatre District,Fenway,2.71,1.0,UberXL,32.0\r\n",
            "5,1543203646358,Uber,Beacon Hill,North End,2.19,1.0,UberX,8.0\r\n",
            "6,1543203646358,Uber,North Station,Fenway,3.05,1.0,WAV,10.5\r\n",
            "7,1543203646358,Uber,Beacon Hill,North End,2.19,1.0,UberXL,13.0\r\n",
            "8,1543203646358,Uber,Beacon Hill,North End,2.19,1.0,Black,17.5\r\n"
          ],
          "name": "stdout"
        }
      ]
    },
    {
      "cell_type": "code",
      "metadata": {
        "id": "MGwZBOoouto4"
      },
      "source": [
        "import pandas as pd\n",
        "import numpy as np"
      ],
      "execution_count": 132,
      "outputs": []
    },
    {
      "cell_type": "markdown",
      "metadata": {
        "id": "9Q_Ile3xfSbZ"
      },
      "source": [
        "sources['source_Back Bay'],sources['source_Beacon Hill'],sources['source_Boston University'],\n",
        "                    sources['source_Fenway'],sources['source_Financial District'],sources['source_Haymarket Square'],\n",
        "                    sources['source_North End'],sources['source_North Station'],sources['source_Northeastern University'],\n",
        "                    sources['source_South Station'],sources['source_Theatre District'],sources['source_West End'],\n",
        "                     \n",
        "                    dest['dest_Back Bay'],dest['dest_Beacon Hill'],dest['dest_Boston University'],\n",
        "                    dest['dest_Fenway'],dest['dest_Financial District'],dest['dest_Haymarket Square'],\n",
        "                    dest['dest_North End'],dest['dest_North Station'],dest['dest_Northeastern University'],\n",
        "                    dest['dest_South Station'],dest['dest_Theatre District'],dest['dest_West End'],\n",
        "\n",
        "                       ''' \n",
        "                    cabtype['cab_type_Black'],cabtype['cab_type_Black SUV'],cabtype['cab_type_Lux'],cabtype['cab_type_Lux Black'],\n",
        "                    cabtype['cab_type_Lux Black XL'],cabtype['cab_type_Lyft'],cabtype['cab_type_Lyft XL'],cabtype['cab_type_Shared'],\n",
        "                    cabtype['cab_type_UberPool'],cabtype['cab_type_UberX'],cabtype['cab_type_UberXL'],cabtype['cab_type_WAV'],\n",
        "                    #dow[\"dow_0\"],dow[\"dow_1\"],dow[\"dow_2\"],\n",
        "                    '''   \n"
      ]
    },
    {
      "cell_type": "code",
      "metadata": {
        "id": "pFRiTn32BhN1"
      },
      "source": [
        "def DataPipeLine(df):\n",
        "    df[\"sec\"]=(df.time_stamp/1000) % (24*3600)\n",
        "    seconds_in_day = 24*60*60\n",
        "    df['sin_time'] = (np.sin(2*np.pi*df.sec/seconds_in_day))\n",
        "    df['cos_time'] = (np.cos(2*np.pi*df.sec/seconds_in_day))\n",
        "\n",
        "    sources=pd.get_dummies(df[\"source\"],prefix='source',drop_first=False)\n",
        "    dest=pd.get_dummies(df[\"destination\"],prefix='dest',drop_first=False)\n",
        "    cab=pd.get_dummies(df[\"cab_provider\"],prefix='provider',drop_first=False)\n",
        "    \n",
        "    a=df.time_stamp\n",
        "    df[\"DateTime\"]=a.apply( lambda x:pd.Timestamp(x,unit=\"ms\"))\n",
        "    #df[\"dow\"]=df[\"DateTime\"].dt.dayofweek\n",
        "    \n",
        "    #dow=pd.get_dummies(df[\"dow\"],prefix='dow',drop_first=False)\n",
        "\n",
        "\n",
        "    sources=pd.get_dummies(df[\"source\"],prefix='source',drop_first=False)\n",
        "    dest=pd.get_dummies(df[\"destination\"],prefix='dest',drop_first=False)\n",
        "    cab=pd.get_dummies(df[\"cab_provider\"],prefix='provider',drop_first=False)\n",
        "    cabtype=pd.get_dummies(df[\"cab_type\"],prefix='cab_type',drop_first=False)\n",
        "\n",
        "    new = pd.DataFrame([df.DateTime, sources.columns, dest.columns])\n",
        "\n",
        "\n",
        "    Xret = pd.DataFrame([\n",
        "                    \n",
        "                    cab['provider_Lyft'], cab['provider_Uber'],\n",
        "                    sources['source_Back Bay'],sources['source_Beacon Hill'],sources['source_Boston University'],\n",
        "                    sources['source_Fenway'],sources['source_Financial District'],sources['source_Haymarket Square'],\n",
        "                    sources['source_North End'],sources['source_North Station'],sources['source_Northeastern University'],\n",
        "                    sources['source_South Station'],sources['source_Theatre District'],sources['source_West End'],\n",
        "                     \n",
        "                    dest['dest_Back Bay'],dest['dest_Beacon Hill'],dest['dest_Boston University'],\n",
        "                    dest['dest_Fenway'],dest['dest_Financial District'],dest['dest_Haymarket Square'],\n",
        "                    dest['dest_North End'],dest['dest_North Station'],dest['dest_Northeastern University'],\n",
        "                    dest['dest_South Station'],dest['dest_Theatre District'],dest['dest_West End'],\n",
        "\n",
        "                    cabtype['cab_type_Black'],cabtype['cab_type_Black SUV'],cabtype['cab_type_Lux'],cabtype['cab_type_Lux Black'],\n",
        "                    cabtype['cab_type_Lux Black XL'],cabtype['cab_type_Lyft'],cabtype['cab_type_Lyft XL'],cabtype['cab_type_Shared'],\n",
        "                    cabtype['cab_type_UberPool'],cabtype['cab_type_UberX'],cabtype['cab_type_UberXL'],cabtype['cab_type_WAV'],\n",
        "                    #dow[\"dow_0\"],dow[\"dow_1\"],dow[\"dow_2\"],\n",
        "\n",
        "\n",
        "\n",
        "                    df[\"distance\"]/10,\n",
        "                    df[\"surge_multiplier\"]/3,\n",
        "                    (df[\"sin_time\"]/2)+0.5,\n",
        "                    (df[\"cos_time\"]/2)+0.5\n",
        "                    #df.fare/df[\"surge_multiplier\"]/df[\"distance\"],\n",
        "                    #df.fare\n",
        "                    ]).transpose()\n",
        "    return(Xret)\n",
        "\n"
      ],
      "execution_count": 133,
      "outputs": []
    },
    {
      "cell_type": "code",
      "metadata": {
        "id": "Y4Uidcm9Vw7W"
      },
      "source": [
        ""
      ],
      "execution_count": 133,
      "outputs": []
    },
    {
      "cell_type": "code",
      "metadata": {
        "id": "BrZTH5KLVw7Z"
      },
      "source": [
        ""
      ],
      "execution_count": 133,
      "outputs": []
    },
    {
      "cell_type": "code",
      "metadata": {
        "id": "L8YSLkZyuxEV"
      },
      "source": [
        "df=pd.read_csv(\"TRAIN.csv\")"
      ],
      "execution_count": 134,
      "outputs": []
    },
    {
      "cell_type": "code",
      "metadata": {
        "colab": {
          "base_uri": "https://localhost:8080/",
          "height": 195
        },
        "id": "_GwG9QIurKQg",
        "outputId": "c5c30876-f8af-47bb-b047-c1c57dc4fe78"
      },
      "source": [
        "df.head()"
      ],
      "execution_count": 135,
      "outputs": [
        {
          "output_type": "execute_result",
          "data": {
            "text/html": [
              "<div>\n",
              "<style scoped>\n",
              "    .dataframe tbody tr th:only-of-type {\n",
              "        vertical-align: middle;\n",
              "    }\n",
              "\n",
              "    .dataframe tbody tr th {\n",
              "        vertical-align: top;\n",
              "    }\n",
              "\n",
              "    .dataframe thead th {\n",
              "        text-align: right;\n",
              "    }\n",
              "</style>\n",
              "<table border=\"1\" class=\"dataframe\">\n",
              "  <thead>\n",
              "    <tr style=\"text-align: right;\">\n",
              "      <th></th>\n",
              "      <th>index</th>\n",
              "      <th>time_stamp</th>\n",
              "      <th>cab_provider</th>\n",
              "      <th>source</th>\n",
              "      <th>destination</th>\n",
              "      <th>distance</th>\n",
              "      <th>surge_multiplier</th>\n",
              "      <th>cab_type</th>\n",
              "      <th>fare</th>\n",
              "    </tr>\n",
              "  </thead>\n",
              "  <tbody>\n",
              "    <tr>\n",
              "      <th>0</th>\n",
              "      <td>0</td>\n",
              "      <td>1543203646318</td>\n",
              "      <td>Lyft</td>\n",
              "      <td>Boston University</td>\n",
              "      <td>Theatre District</td>\n",
              "      <td>3.03</td>\n",
              "      <td>1.0</td>\n",
              "      <td>Lux Black XL</td>\n",
              "      <td>34.0</td>\n",
              "    </tr>\n",
              "    <tr>\n",
              "      <th>1</th>\n",
              "      <td>1</td>\n",
              "      <td>1543203646319</td>\n",
              "      <td>Uber</td>\n",
              "      <td>South Station</td>\n",
              "      <td>Theatre District</td>\n",
              "      <td>1.30</td>\n",
              "      <td>1.0</td>\n",
              "      <td>Black</td>\n",
              "      <td>18.5</td>\n",
              "    </tr>\n",
              "    <tr>\n",
              "      <th>2</th>\n",
              "      <td>2</td>\n",
              "      <td>1543203646320</td>\n",
              "      <td>Uber</td>\n",
              "      <td>Theatre District</td>\n",
              "      <td>Fenway</td>\n",
              "      <td>2.71</td>\n",
              "      <td>1.0</td>\n",
              "      <td>UberX</td>\n",
              "      <td>19.5</td>\n",
              "    </tr>\n",
              "    <tr>\n",
              "      <th>3</th>\n",
              "      <td>3</td>\n",
              "      <td>1543203646320</td>\n",
              "      <td>Lyft</td>\n",
              "      <td>Northeastern University</td>\n",
              "      <td>Beacon Hill</td>\n",
              "      <td>2.43</td>\n",
              "      <td>1.0</td>\n",
              "      <td>Lyft</td>\n",
              "      <td>10.5</td>\n",
              "    </tr>\n",
              "    <tr>\n",
              "      <th>4</th>\n",
              "      <td>4</td>\n",
              "      <td>1543203646320</td>\n",
              "      <td>Uber</td>\n",
              "      <td>Theatre District</td>\n",
              "      <td>Fenway</td>\n",
              "      <td>2.71</td>\n",
              "      <td>1.0</td>\n",
              "      <td>UberXL</td>\n",
              "      <td>32.0</td>\n",
              "    </tr>\n",
              "  </tbody>\n",
              "</table>\n",
              "</div>"
            ],
            "text/plain": [
              "   index     time_stamp cab_provider  ... surge_multiplier      cab_type  fare\n",
              "0      0  1543203646318         Lyft  ...              1.0  Lux Black XL  34.0\n",
              "1      1  1543203646319         Uber  ...              1.0         Black  18.5\n",
              "2      2  1543203646320         Uber  ...              1.0         UberX  19.5\n",
              "3      3  1543203646320         Lyft  ...              1.0          Lyft  10.5\n",
              "4      4  1543203646320         Uber  ...              1.0        UberXL  32.0\n",
              "\n",
              "[5 rows x 9 columns]"
            ]
          },
          "metadata": {
            "tags": []
          },
          "execution_count": 135
        }
      ]
    },
    {
      "cell_type": "code",
      "metadata": {
        "id": "e9s0bMuFDxhA"
      },
      "source": [
        "X_trainn=DataPipeLine(df)   "
      ],
      "execution_count": 136,
      "outputs": []
    },
    {
      "cell_type": "code",
      "metadata": {
        "colab": {
          "base_uri": "https://localhost:8080/"
        },
        "id": "KGz5DCA1ImbP",
        "outputId": "b0d9d058-1a2b-47f0-8d6d-e940a399c891"
      },
      "source": [
        "X_trainn[\"surge_multiplier\"].max()"
      ],
      "execution_count": 137,
      "outputs": [
        {
          "output_type": "execute_result",
          "data": {
            "text/plain": [
              "1.0"
            ]
          },
          "metadata": {
            "tags": []
          },
          "execution_count": 137
        }
      ]
    },
    {
      "cell_type": "code",
      "metadata": {
        "colab": {
          "base_uri": "https://localhost:8080/",
          "height": 232
        },
        "id": "-BsFlcWRD1Gy",
        "outputId": "4f9303bb-5f3d-46b1-ae21-f0f21afe9f71"
      },
      "source": [
        "X_trainn.head()"
      ],
      "execution_count": 138,
      "outputs": [
        {
          "output_type": "execute_result",
          "data": {
            "text/html": [
              "<div>\n",
              "<style scoped>\n",
              "    .dataframe tbody tr th:only-of-type {\n",
              "        vertical-align: middle;\n",
              "    }\n",
              "\n",
              "    .dataframe tbody tr th {\n",
              "        vertical-align: top;\n",
              "    }\n",
              "\n",
              "    .dataframe thead th {\n",
              "        text-align: right;\n",
              "    }\n",
              "</style>\n",
              "<table border=\"1\" class=\"dataframe\">\n",
              "  <thead>\n",
              "    <tr style=\"text-align: right;\">\n",
              "      <th></th>\n",
              "      <th>provider_Lyft</th>\n",
              "      <th>provider_Uber</th>\n",
              "      <th>source_Back Bay</th>\n",
              "      <th>source_Beacon Hill</th>\n",
              "      <th>source_Boston University</th>\n",
              "      <th>source_Fenway</th>\n",
              "      <th>source_Financial District</th>\n",
              "      <th>source_Haymarket Square</th>\n",
              "      <th>source_North End</th>\n",
              "      <th>source_North Station</th>\n",
              "      <th>source_Northeastern University</th>\n",
              "      <th>source_South Station</th>\n",
              "      <th>source_Theatre District</th>\n",
              "      <th>source_West End</th>\n",
              "      <th>dest_Back Bay</th>\n",
              "      <th>dest_Beacon Hill</th>\n",
              "      <th>dest_Boston University</th>\n",
              "      <th>dest_Fenway</th>\n",
              "      <th>dest_Financial District</th>\n",
              "      <th>dest_Haymarket Square</th>\n",
              "      <th>dest_North End</th>\n",
              "      <th>dest_North Station</th>\n",
              "      <th>dest_Northeastern University</th>\n",
              "      <th>dest_South Station</th>\n",
              "      <th>dest_Theatre District</th>\n",
              "      <th>dest_West End</th>\n",
              "      <th>cab_type_Black</th>\n",
              "      <th>cab_type_Black SUV</th>\n",
              "      <th>cab_type_Lux</th>\n",
              "      <th>cab_type_Lux Black</th>\n",
              "      <th>cab_type_Lux Black XL</th>\n",
              "      <th>cab_type_Lyft</th>\n",
              "      <th>cab_type_Lyft XL</th>\n",
              "      <th>cab_type_Shared</th>\n",
              "      <th>cab_type_UberPool</th>\n",
              "      <th>cab_type_UberX</th>\n",
              "      <th>cab_type_UberXL</th>\n",
              "      <th>cab_type_WAV</th>\n",
              "      <th>distance</th>\n",
              "      <th>surge_multiplier</th>\n",
              "      <th>sin_time</th>\n",
              "      <th>cos_time</th>\n",
              "    </tr>\n",
              "  </thead>\n",
              "  <tbody>\n",
              "    <tr>\n",
              "      <th>0</th>\n",
              "      <td>1.0</td>\n",
              "      <td>0.0</td>\n",
              "      <td>0.0</td>\n",
              "      <td>0.0</td>\n",
              "      <td>1.0</td>\n",
              "      <td>0.0</td>\n",
              "      <td>0.0</td>\n",
              "      <td>0.0</td>\n",
              "      <td>0.0</td>\n",
              "      <td>0.0</td>\n",
              "      <td>0.0</td>\n",
              "      <td>0.0</td>\n",
              "      <td>0.0</td>\n",
              "      <td>0.0</td>\n",
              "      <td>0.0</td>\n",
              "      <td>0.0</td>\n",
              "      <td>0.0</td>\n",
              "      <td>0.0</td>\n",
              "      <td>0.0</td>\n",
              "      <td>0.0</td>\n",
              "      <td>0.0</td>\n",
              "      <td>0.0</td>\n",
              "      <td>0.0</td>\n",
              "      <td>0.0</td>\n",
              "      <td>1.0</td>\n",
              "      <td>0.0</td>\n",
              "      <td>0.0</td>\n",
              "      <td>0.0</td>\n",
              "      <td>0.0</td>\n",
              "      <td>0.0</td>\n",
              "      <td>1.0</td>\n",
              "      <td>0.0</td>\n",
              "      <td>0.0</td>\n",
              "      <td>0.0</td>\n",
              "      <td>0.0</td>\n",
              "      <td>0.0</td>\n",
              "      <td>0.0</td>\n",
              "      <td>0.0</td>\n",
              "      <td>0.303</td>\n",
              "      <td>0.333333</td>\n",
              "      <td>0.91054</td>\n",
              "      <td>0.785407</td>\n",
              "    </tr>\n",
              "    <tr>\n",
              "      <th>1</th>\n",
              "      <td>0.0</td>\n",
              "      <td>1.0</td>\n",
              "      <td>0.0</td>\n",
              "      <td>0.0</td>\n",
              "      <td>0.0</td>\n",
              "      <td>0.0</td>\n",
              "      <td>0.0</td>\n",
              "      <td>0.0</td>\n",
              "      <td>0.0</td>\n",
              "      <td>0.0</td>\n",
              "      <td>0.0</td>\n",
              "      <td>1.0</td>\n",
              "      <td>0.0</td>\n",
              "      <td>0.0</td>\n",
              "      <td>0.0</td>\n",
              "      <td>0.0</td>\n",
              "      <td>0.0</td>\n",
              "      <td>0.0</td>\n",
              "      <td>0.0</td>\n",
              "      <td>0.0</td>\n",
              "      <td>0.0</td>\n",
              "      <td>0.0</td>\n",
              "      <td>0.0</td>\n",
              "      <td>0.0</td>\n",
              "      <td>1.0</td>\n",
              "      <td>0.0</td>\n",
              "      <td>1.0</td>\n",
              "      <td>0.0</td>\n",
              "      <td>0.0</td>\n",
              "      <td>0.0</td>\n",
              "      <td>0.0</td>\n",
              "      <td>0.0</td>\n",
              "      <td>0.0</td>\n",
              "      <td>0.0</td>\n",
              "      <td>0.0</td>\n",
              "      <td>0.0</td>\n",
              "      <td>0.0</td>\n",
              "      <td>0.0</td>\n",
              "      <td>0.130</td>\n",
              "      <td>0.333333</td>\n",
              "      <td>0.91054</td>\n",
              "      <td>0.785407</td>\n",
              "    </tr>\n",
              "    <tr>\n",
              "      <th>2</th>\n",
              "      <td>0.0</td>\n",
              "      <td>1.0</td>\n",
              "      <td>0.0</td>\n",
              "      <td>0.0</td>\n",
              "      <td>0.0</td>\n",
              "      <td>0.0</td>\n",
              "      <td>0.0</td>\n",
              "      <td>0.0</td>\n",
              "      <td>0.0</td>\n",
              "      <td>0.0</td>\n",
              "      <td>0.0</td>\n",
              "      <td>0.0</td>\n",
              "      <td>1.0</td>\n",
              "      <td>0.0</td>\n",
              "      <td>0.0</td>\n",
              "      <td>0.0</td>\n",
              "      <td>0.0</td>\n",
              "      <td>1.0</td>\n",
              "      <td>0.0</td>\n",
              "      <td>0.0</td>\n",
              "      <td>0.0</td>\n",
              "      <td>0.0</td>\n",
              "      <td>0.0</td>\n",
              "      <td>0.0</td>\n",
              "      <td>0.0</td>\n",
              "      <td>0.0</td>\n",
              "      <td>0.0</td>\n",
              "      <td>0.0</td>\n",
              "      <td>0.0</td>\n",
              "      <td>0.0</td>\n",
              "      <td>0.0</td>\n",
              "      <td>0.0</td>\n",
              "      <td>0.0</td>\n",
              "      <td>0.0</td>\n",
              "      <td>0.0</td>\n",
              "      <td>1.0</td>\n",
              "      <td>0.0</td>\n",
              "      <td>0.0</td>\n",
              "      <td>0.271</td>\n",
              "      <td>0.333333</td>\n",
              "      <td>0.91054</td>\n",
              "      <td>0.785407</td>\n",
              "    </tr>\n",
              "    <tr>\n",
              "      <th>3</th>\n",
              "      <td>1.0</td>\n",
              "      <td>0.0</td>\n",
              "      <td>0.0</td>\n",
              "      <td>0.0</td>\n",
              "      <td>0.0</td>\n",
              "      <td>0.0</td>\n",
              "      <td>0.0</td>\n",
              "      <td>0.0</td>\n",
              "      <td>0.0</td>\n",
              "      <td>0.0</td>\n",
              "      <td>1.0</td>\n",
              "      <td>0.0</td>\n",
              "      <td>0.0</td>\n",
              "      <td>0.0</td>\n",
              "      <td>0.0</td>\n",
              "      <td>1.0</td>\n",
              "      <td>0.0</td>\n",
              "      <td>0.0</td>\n",
              "      <td>0.0</td>\n",
              "      <td>0.0</td>\n",
              "      <td>0.0</td>\n",
              "      <td>0.0</td>\n",
              "      <td>0.0</td>\n",
              "      <td>0.0</td>\n",
              "      <td>0.0</td>\n",
              "      <td>0.0</td>\n",
              "      <td>0.0</td>\n",
              "      <td>0.0</td>\n",
              "      <td>0.0</td>\n",
              "      <td>0.0</td>\n",
              "      <td>0.0</td>\n",
              "      <td>1.0</td>\n",
              "      <td>0.0</td>\n",
              "      <td>0.0</td>\n",
              "      <td>0.0</td>\n",
              "      <td>0.0</td>\n",
              "      <td>0.0</td>\n",
              "      <td>0.0</td>\n",
              "      <td>0.243</td>\n",
              "      <td>0.333333</td>\n",
              "      <td>0.91054</td>\n",
              "      <td>0.785407</td>\n",
              "    </tr>\n",
              "    <tr>\n",
              "      <th>4</th>\n",
              "      <td>0.0</td>\n",
              "      <td>1.0</td>\n",
              "      <td>0.0</td>\n",
              "      <td>0.0</td>\n",
              "      <td>0.0</td>\n",
              "      <td>0.0</td>\n",
              "      <td>0.0</td>\n",
              "      <td>0.0</td>\n",
              "      <td>0.0</td>\n",
              "      <td>0.0</td>\n",
              "      <td>0.0</td>\n",
              "      <td>0.0</td>\n",
              "      <td>1.0</td>\n",
              "      <td>0.0</td>\n",
              "      <td>0.0</td>\n",
              "      <td>0.0</td>\n",
              "      <td>0.0</td>\n",
              "      <td>1.0</td>\n",
              "      <td>0.0</td>\n",
              "      <td>0.0</td>\n",
              "      <td>0.0</td>\n",
              "      <td>0.0</td>\n",
              "      <td>0.0</td>\n",
              "      <td>0.0</td>\n",
              "      <td>0.0</td>\n",
              "      <td>0.0</td>\n",
              "      <td>0.0</td>\n",
              "      <td>0.0</td>\n",
              "      <td>0.0</td>\n",
              "      <td>0.0</td>\n",
              "      <td>0.0</td>\n",
              "      <td>0.0</td>\n",
              "      <td>0.0</td>\n",
              "      <td>0.0</td>\n",
              "      <td>0.0</td>\n",
              "      <td>0.0</td>\n",
              "      <td>1.0</td>\n",
              "      <td>0.0</td>\n",
              "      <td>0.271</td>\n",
              "      <td>0.333333</td>\n",
              "      <td>0.91054</td>\n",
              "      <td>0.785407</td>\n",
              "    </tr>\n",
              "  </tbody>\n",
              "</table>\n",
              "</div>"
            ],
            "text/plain": [
              "   provider_Lyft  provider_Uber  ...  sin_time  cos_time\n",
              "0            1.0            0.0  ...   0.91054  0.785407\n",
              "1            0.0            1.0  ...   0.91054  0.785407\n",
              "2            0.0            1.0  ...   0.91054  0.785407\n",
              "3            1.0            0.0  ...   0.91054  0.785407\n",
              "4            0.0            1.0  ...   0.91054  0.785407\n",
              "\n",
              "[5 rows x 42 columns]"
            ]
          },
          "metadata": {
            "tags": []
          },
          "execution_count": 138
        }
      ]
    },
    {
      "cell_type": "code",
      "metadata": {
        "colab": {
          "base_uri": "https://localhost:8080/"
        },
        "id": "KjLg5QuHrB4Q",
        "outputId": "019d7d56-38be-4792-da13-e586f7da711f"
      },
      "source": [
        "#df.DateTime\n",
        "(df.time_stamp/1000) % (24*3600)"
      ],
      "execution_count": 139,
      "outputs": [
        {
          "output_type": "execute_result",
          "data": {
            "text/plain": [
              "0        13246.318\n",
              "1        13246.319\n",
              "2        13246.320\n",
              "3        13246.320\n",
              "4        13246.320\n",
              "           ...    \n",
              "99995      924.049\n",
              "99996      924.049\n",
              "99997      924.049\n",
              "99998      924.049\n",
              "99999      924.049\n",
              "Name: time_stamp, Length: 100000, dtype: float64"
            ]
          },
          "metadata": {
            "tags": []
          },
          "execution_count": 139
        }
      ]
    },
    {
      "cell_type": "code",
      "metadata": {
        "id": "vHMbqyHEy8CP"
      },
      "source": [
        "ytrain=df[\"fare\"]/92"
      ],
      "execution_count": 140,
      "outputs": []
    },
    {
      "cell_type": "code",
      "metadata": {
        "colab": {
          "base_uri": "https://localhost:8080/",
          "height": 438
        },
        "id": "I57NOM5TqD3Z",
        "outputId": "af12819c-041a-435d-e213-c3a0c2022a65"
      },
      "source": [
        "X_trainn"
      ],
      "execution_count": 141,
      "outputs": [
        {
          "output_type": "execute_result",
          "data": {
            "text/html": [
              "<div>\n",
              "<style scoped>\n",
              "    .dataframe tbody tr th:only-of-type {\n",
              "        vertical-align: middle;\n",
              "    }\n",
              "\n",
              "    .dataframe tbody tr th {\n",
              "        vertical-align: top;\n",
              "    }\n",
              "\n",
              "    .dataframe thead th {\n",
              "        text-align: right;\n",
              "    }\n",
              "</style>\n",
              "<table border=\"1\" class=\"dataframe\">\n",
              "  <thead>\n",
              "    <tr style=\"text-align: right;\">\n",
              "      <th></th>\n",
              "      <th>provider_Lyft</th>\n",
              "      <th>provider_Uber</th>\n",
              "      <th>source_Back Bay</th>\n",
              "      <th>source_Beacon Hill</th>\n",
              "      <th>source_Boston University</th>\n",
              "      <th>source_Fenway</th>\n",
              "      <th>source_Financial District</th>\n",
              "      <th>source_Haymarket Square</th>\n",
              "      <th>source_North End</th>\n",
              "      <th>source_North Station</th>\n",
              "      <th>source_Northeastern University</th>\n",
              "      <th>source_South Station</th>\n",
              "      <th>source_Theatre District</th>\n",
              "      <th>source_West End</th>\n",
              "      <th>dest_Back Bay</th>\n",
              "      <th>dest_Beacon Hill</th>\n",
              "      <th>dest_Boston University</th>\n",
              "      <th>dest_Fenway</th>\n",
              "      <th>dest_Financial District</th>\n",
              "      <th>dest_Haymarket Square</th>\n",
              "      <th>dest_North End</th>\n",
              "      <th>dest_North Station</th>\n",
              "      <th>dest_Northeastern University</th>\n",
              "      <th>dest_South Station</th>\n",
              "      <th>dest_Theatre District</th>\n",
              "      <th>dest_West End</th>\n",
              "      <th>cab_type_Black</th>\n",
              "      <th>cab_type_Black SUV</th>\n",
              "      <th>cab_type_Lux</th>\n",
              "      <th>cab_type_Lux Black</th>\n",
              "      <th>cab_type_Lux Black XL</th>\n",
              "      <th>cab_type_Lyft</th>\n",
              "      <th>cab_type_Lyft XL</th>\n",
              "      <th>cab_type_Shared</th>\n",
              "      <th>cab_type_UberPool</th>\n",
              "      <th>cab_type_UberX</th>\n",
              "      <th>cab_type_UberXL</th>\n",
              "      <th>cab_type_WAV</th>\n",
              "      <th>distance</th>\n",
              "      <th>surge_multiplier</th>\n",
              "      <th>sin_time</th>\n",
              "      <th>cos_time</th>\n",
              "    </tr>\n",
              "  </thead>\n",
              "  <tbody>\n",
              "    <tr>\n",
              "      <th>0</th>\n",
              "      <td>1.0</td>\n",
              "      <td>0.0</td>\n",
              "      <td>0.0</td>\n",
              "      <td>0.0</td>\n",
              "      <td>1.0</td>\n",
              "      <td>0.0</td>\n",
              "      <td>0.0</td>\n",
              "      <td>0.0</td>\n",
              "      <td>0.0</td>\n",
              "      <td>0.0</td>\n",
              "      <td>0.0</td>\n",
              "      <td>0.0</td>\n",
              "      <td>0.0</td>\n",
              "      <td>0.0</td>\n",
              "      <td>0.0</td>\n",
              "      <td>0.0</td>\n",
              "      <td>0.0</td>\n",
              "      <td>0.0</td>\n",
              "      <td>0.0</td>\n",
              "      <td>0.0</td>\n",
              "      <td>0.0</td>\n",
              "      <td>0.0</td>\n",
              "      <td>0.0</td>\n",
              "      <td>0.0</td>\n",
              "      <td>1.0</td>\n",
              "      <td>0.0</td>\n",
              "      <td>0.0</td>\n",
              "      <td>0.0</td>\n",
              "      <td>0.0</td>\n",
              "      <td>0.0</td>\n",
              "      <td>1.0</td>\n",
              "      <td>0.0</td>\n",
              "      <td>0.0</td>\n",
              "      <td>0.0</td>\n",
              "      <td>0.0</td>\n",
              "      <td>0.0</td>\n",
              "      <td>0.0</td>\n",
              "      <td>0.0</td>\n",
              "      <td>0.303</td>\n",
              "      <td>0.333333</td>\n",
              "      <td>0.910540</td>\n",
              "      <td>0.785407</td>\n",
              "    </tr>\n",
              "    <tr>\n",
              "      <th>1</th>\n",
              "      <td>0.0</td>\n",
              "      <td>1.0</td>\n",
              "      <td>0.0</td>\n",
              "      <td>0.0</td>\n",
              "      <td>0.0</td>\n",
              "      <td>0.0</td>\n",
              "      <td>0.0</td>\n",
              "      <td>0.0</td>\n",
              "      <td>0.0</td>\n",
              "      <td>0.0</td>\n",
              "      <td>0.0</td>\n",
              "      <td>1.0</td>\n",
              "      <td>0.0</td>\n",
              "      <td>0.0</td>\n",
              "      <td>0.0</td>\n",
              "      <td>0.0</td>\n",
              "      <td>0.0</td>\n",
              "      <td>0.0</td>\n",
              "      <td>0.0</td>\n",
              "      <td>0.0</td>\n",
              "      <td>0.0</td>\n",
              "      <td>0.0</td>\n",
              "      <td>0.0</td>\n",
              "      <td>0.0</td>\n",
              "      <td>1.0</td>\n",
              "      <td>0.0</td>\n",
              "      <td>1.0</td>\n",
              "      <td>0.0</td>\n",
              "      <td>0.0</td>\n",
              "      <td>0.0</td>\n",
              "      <td>0.0</td>\n",
              "      <td>0.0</td>\n",
              "      <td>0.0</td>\n",
              "      <td>0.0</td>\n",
              "      <td>0.0</td>\n",
              "      <td>0.0</td>\n",
              "      <td>0.0</td>\n",
              "      <td>0.0</td>\n",
              "      <td>0.130</td>\n",
              "      <td>0.333333</td>\n",
              "      <td>0.910540</td>\n",
              "      <td>0.785407</td>\n",
              "    </tr>\n",
              "    <tr>\n",
              "      <th>2</th>\n",
              "      <td>0.0</td>\n",
              "      <td>1.0</td>\n",
              "      <td>0.0</td>\n",
              "      <td>0.0</td>\n",
              "      <td>0.0</td>\n",
              "      <td>0.0</td>\n",
              "      <td>0.0</td>\n",
              "      <td>0.0</td>\n",
              "      <td>0.0</td>\n",
              "      <td>0.0</td>\n",
              "      <td>0.0</td>\n",
              "      <td>0.0</td>\n",
              "      <td>1.0</td>\n",
              "      <td>0.0</td>\n",
              "      <td>0.0</td>\n",
              "      <td>0.0</td>\n",
              "      <td>0.0</td>\n",
              "      <td>1.0</td>\n",
              "      <td>0.0</td>\n",
              "      <td>0.0</td>\n",
              "      <td>0.0</td>\n",
              "      <td>0.0</td>\n",
              "      <td>0.0</td>\n",
              "      <td>0.0</td>\n",
              "      <td>0.0</td>\n",
              "      <td>0.0</td>\n",
              "      <td>0.0</td>\n",
              "      <td>0.0</td>\n",
              "      <td>0.0</td>\n",
              "      <td>0.0</td>\n",
              "      <td>0.0</td>\n",
              "      <td>0.0</td>\n",
              "      <td>0.0</td>\n",
              "      <td>0.0</td>\n",
              "      <td>0.0</td>\n",
              "      <td>1.0</td>\n",
              "      <td>0.0</td>\n",
              "      <td>0.0</td>\n",
              "      <td>0.271</td>\n",
              "      <td>0.333333</td>\n",
              "      <td>0.910540</td>\n",
              "      <td>0.785407</td>\n",
              "    </tr>\n",
              "    <tr>\n",
              "      <th>3</th>\n",
              "      <td>1.0</td>\n",
              "      <td>0.0</td>\n",
              "      <td>0.0</td>\n",
              "      <td>0.0</td>\n",
              "      <td>0.0</td>\n",
              "      <td>0.0</td>\n",
              "      <td>0.0</td>\n",
              "      <td>0.0</td>\n",
              "      <td>0.0</td>\n",
              "      <td>0.0</td>\n",
              "      <td>1.0</td>\n",
              "      <td>0.0</td>\n",
              "      <td>0.0</td>\n",
              "      <td>0.0</td>\n",
              "      <td>0.0</td>\n",
              "      <td>1.0</td>\n",
              "      <td>0.0</td>\n",
              "      <td>0.0</td>\n",
              "      <td>0.0</td>\n",
              "      <td>0.0</td>\n",
              "      <td>0.0</td>\n",
              "      <td>0.0</td>\n",
              "      <td>0.0</td>\n",
              "      <td>0.0</td>\n",
              "      <td>0.0</td>\n",
              "      <td>0.0</td>\n",
              "      <td>0.0</td>\n",
              "      <td>0.0</td>\n",
              "      <td>0.0</td>\n",
              "      <td>0.0</td>\n",
              "      <td>0.0</td>\n",
              "      <td>1.0</td>\n",
              "      <td>0.0</td>\n",
              "      <td>0.0</td>\n",
              "      <td>0.0</td>\n",
              "      <td>0.0</td>\n",
              "      <td>0.0</td>\n",
              "      <td>0.0</td>\n",
              "      <td>0.243</td>\n",
              "      <td>0.333333</td>\n",
              "      <td>0.910540</td>\n",
              "      <td>0.785407</td>\n",
              "    </tr>\n",
              "    <tr>\n",
              "      <th>4</th>\n",
              "      <td>0.0</td>\n",
              "      <td>1.0</td>\n",
              "      <td>0.0</td>\n",
              "      <td>0.0</td>\n",
              "      <td>0.0</td>\n",
              "      <td>0.0</td>\n",
              "      <td>0.0</td>\n",
              "      <td>0.0</td>\n",
              "      <td>0.0</td>\n",
              "      <td>0.0</td>\n",
              "      <td>0.0</td>\n",
              "      <td>0.0</td>\n",
              "      <td>1.0</td>\n",
              "      <td>0.0</td>\n",
              "      <td>0.0</td>\n",
              "      <td>0.0</td>\n",
              "      <td>0.0</td>\n",
              "      <td>1.0</td>\n",
              "      <td>0.0</td>\n",
              "      <td>0.0</td>\n",
              "      <td>0.0</td>\n",
              "      <td>0.0</td>\n",
              "      <td>0.0</td>\n",
              "      <td>0.0</td>\n",
              "      <td>0.0</td>\n",
              "      <td>0.0</td>\n",
              "      <td>0.0</td>\n",
              "      <td>0.0</td>\n",
              "      <td>0.0</td>\n",
              "      <td>0.0</td>\n",
              "      <td>0.0</td>\n",
              "      <td>0.0</td>\n",
              "      <td>0.0</td>\n",
              "      <td>0.0</td>\n",
              "      <td>0.0</td>\n",
              "      <td>0.0</td>\n",
              "      <td>1.0</td>\n",
              "      <td>0.0</td>\n",
              "      <td>0.271</td>\n",
              "      <td>0.333333</td>\n",
              "      <td>0.910540</td>\n",
              "      <td>0.785407</td>\n",
              "    </tr>\n",
              "    <tr>\n",
              "      <th>...</th>\n",
              "      <td>...</td>\n",
              "      <td>...</td>\n",
              "      <td>...</td>\n",
              "      <td>...</td>\n",
              "      <td>...</td>\n",
              "      <td>...</td>\n",
              "      <td>...</td>\n",
              "      <td>...</td>\n",
              "      <td>...</td>\n",
              "      <td>...</td>\n",
              "      <td>...</td>\n",
              "      <td>...</td>\n",
              "      <td>...</td>\n",
              "      <td>...</td>\n",
              "      <td>...</td>\n",
              "      <td>...</td>\n",
              "      <td>...</td>\n",
              "      <td>...</td>\n",
              "      <td>...</td>\n",
              "      <td>...</td>\n",
              "      <td>...</td>\n",
              "      <td>...</td>\n",
              "      <td>...</td>\n",
              "      <td>...</td>\n",
              "      <td>...</td>\n",
              "      <td>...</td>\n",
              "      <td>...</td>\n",
              "      <td>...</td>\n",
              "      <td>...</td>\n",
              "      <td>...</td>\n",
              "      <td>...</td>\n",
              "      <td>...</td>\n",
              "      <td>...</td>\n",
              "      <td>...</td>\n",
              "      <td>...</td>\n",
              "      <td>...</td>\n",
              "      <td>...</td>\n",
              "      <td>...</td>\n",
              "      <td>...</td>\n",
              "      <td>...</td>\n",
              "      <td>...</td>\n",
              "      <td>...</td>\n",
              "    </tr>\n",
              "    <tr>\n",
              "      <th>99995</th>\n",
              "      <td>0.0</td>\n",
              "      <td>1.0</td>\n",
              "      <td>0.0</td>\n",
              "      <td>0.0</td>\n",
              "      <td>0.0</td>\n",
              "      <td>0.0</td>\n",
              "      <td>0.0</td>\n",
              "      <td>0.0</td>\n",
              "      <td>1.0</td>\n",
              "      <td>0.0</td>\n",
              "      <td>0.0</td>\n",
              "      <td>0.0</td>\n",
              "      <td>0.0</td>\n",
              "      <td>0.0</td>\n",
              "      <td>0.0</td>\n",
              "      <td>0.0</td>\n",
              "      <td>0.0</td>\n",
              "      <td>0.0</td>\n",
              "      <td>0.0</td>\n",
              "      <td>0.0</td>\n",
              "      <td>0.0</td>\n",
              "      <td>0.0</td>\n",
              "      <td>0.0</td>\n",
              "      <td>0.0</td>\n",
              "      <td>0.0</td>\n",
              "      <td>1.0</td>\n",
              "      <td>0.0</td>\n",
              "      <td>0.0</td>\n",
              "      <td>0.0</td>\n",
              "      <td>0.0</td>\n",
              "      <td>0.0</td>\n",
              "      <td>0.0</td>\n",
              "      <td>0.0</td>\n",
              "      <td>0.0</td>\n",
              "      <td>0.0</td>\n",
              "      <td>0.0</td>\n",
              "      <td>1.0</td>\n",
              "      <td>0.0</td>\n",
              "      <td>0.116</td>\n",
              "      <td>0.333333</td>\n",
              "      <td>0.533574</td>\n",
              "      <td>0.998872</td>\n",
              "    </tr>\n",
              "    <tr>\n",
              "      <th>99996</th>\n",
              "      <td>0.0</td>\n",
              "      <td>1.0</td>\n",
              "      <td>0.0</td>\n",
              "      <td>0.0</td>\n",
              "      <td>0.0</td>\n",
              "      <td>0.0</td>\n",
              "      <td>0.0</td>\n",
              "      <td>0.0</td>\n",
              "      <td>1.0</td>\n",
              "      <td>0.0</td>\n",
              "      <td>0.0</td>\n",
              "      <td>0.0</td>\n",
              "      <td>0.0</td>\n",
              "      <td>0.0</td>\n",
              "      <td>0.0</td>\n",
              "      <td>0.0</td>\n",
              "      <td>0.0</td>\n",
              "      <td>0.0</td>\n",
              "      <td>0.0</td>\n",
              "      <td>0.0</td>\n",
              "      <td>0.0</td>\n",
              "      <td>0.0</td>\n",
              "      <td>0.0</td>\n",
              "      <td>0.0</td>\n",
              "      <td>0.0</td>\n",
              "      <td>1.0</td>\n",
              "      <td>0.0</td>\n",
              "      <td>1.0</td>\n",
              "      <td>0.0</td>\n",
              "      <td>0.0</td>\n",
              "      <td>0.0</td>\n",
              "      <td>0.0</td>\n",
              "      <td>0.0</td>\n",
              "      <td>0.0</td>\n",
              "      <td>0.0</td>\n",
              "      <td>0.0</td>\n",
              "      <td>0.0</td>\n",
              "      <td>0.0</td>\n",
              "      <td>0.116</td>\n",
              "      <td>0.333333</td>\n",
              "      <td>0.533574</td>\n",
              "      <td>0.998872</td>\n",
              "    </tr>\n",
              "    <tr>\n",
              "      <th>99997</th>\n",
              "      <td>0.0</td>\n",
              "      <td>1.0</td>\n",
              "      <td>0.0</td>\n",
              "      <td>0.0</td>\n",
              "      <td>0.0</td>\n",
              "      <td>0.0</td>\n",
              "      <td>0.0</td>\n",
              "      <td>0.0</td>\n",
              "      <td>1.0</td>\n",
              "      <td>0.0</td>\n",
              "      <td>0.0</td>\n",
              "      <td>0.0</td>\n",
              "      <td>0.0</td>\n",
              "      <td>0.0</td>\n",
              "      <td>0.0</td>\n",
              "      <td>0.0</td>\n",
              "      <td>0.0</td>\n",
              "      <td>0.0</td>\n",
              "      <td>0.0</td>\n",
              "      <td>0.0</td>\n",
              "      <td>0.0</td>\n",
              "      <td>0.0</td>\n",
              "      <td>0.0</td>\n",
              "      <td>0.0</td>\n",
              "      <td>0.0</td>\n",
              "      <td>1.0</td>\n",
              "      <td>1.0</td>\n",
              "      <td>0.0</td>\n",
              "      <td>0.0</td>\n",
              "      <td>0.0</td>\n",
              "      <td>0.0</td>\n",
              "      <td>0.0</td>\n",
              "      <td>0.0</td>\n",
              "      <td>0.0</td>\n",
              "      <td>0.0</td>\n",
              "      <td>0.0</td>\n",
              "      <td>0.0</td>\n",
              "      <td>0.0</td>\n",
              "      <td>0.116</td>\n",
              "      <td>0.333333</td>\n",
              "      <td>0.533574</td>\n",
              "      <td>0.998872</td>\n",
              "    </tr>\n",
              "    <tr>\n",
              "      <th>99998</th>\n",
              "      <td>0.0</td>\n",
              "      <td>1.0</td>\n",
              "      <td>0.0</td>\n",
              "      <td>0.0</td>\n",
              "      <td>0.0</td>\n",
              "      <td>0.0</td>\n",
              "      <td>0.0</td>\n",
              "      <td>0.0</td>\n",
              "      <td>1.0</td>\n",
              "      <td>0.0</td>\n",
              "      <td>0.0</td>\n",
              "      <td>0.0</td>\n",
              "      <td>0.0</td>\n",
              "      <td>0.0</td>\n",
              "      <td>0.0</td>\n",
              "      <td>0.0</td>\n",
              "      <td>0.0</td>\n",
              "      <td>0.0</td>\n",
              "      <td>0.0</td>\n",
              "      <td>0.0</td>\n",
              "      <td>0.0</td>\n",
              "      <td>0.0</td>\n",
              "      <td>0.0</td>\n",
              "      <td>0.0</td>\n",
              "      <td>0.0</td>\n",
              "      <td>1.0</td>\n",
              "      <td>0.0</td>\n",
              "      <td>0.0</td>\n",
              "      <td>0.0</td>\n",
              "      <td>0.0</td>\n",
              "      <td>0.0</td>\n",
              "      <td>0.0</td>\n",
              "      <td>0.0</td>\n",
              "      <td>0.0</td>\n",
              "      <td>0.0</td>\n",
              "      <td>1.0</td>\n",
              "      <td>0.0</td>\n",
              "      <td>0.0</td>\n",
              "      <td>0.116</td>\n",
              "      <td>0.333333</td>\n",
              "      <td>0.533574</td>\n",
              "      <td>0.998872</td>\n",
              "    </tr>\n",
              "    <tr>\n",
              "      <th>99999</th>\n",
              "      <td>0.0</td>\n",
              "      <td>1.0</td>\n",
              "      <td>0.0</td>\n",
              "      <td>1.0</td>\n",
              "      <td>0.0</td>\n",
              "      <td>0.0</td>\n",
              "      <td>0.0</td>\n",
              "      <td>0.0</td>\n",
              "      <td>0.0</td>\n",
              "      <td>0.0</td>\n",
              "      <td>0.0</td>\n",
              "      <td>0.0</td>\n",
              "      <td>0.0</td>\n",
              "      <td>0.0</td>\n",
              "      <td>0.0</td>\n",
              "      <td>0.0</td>\n",
              "      <td>0.0</td>\n",
              "      <td>0.0</td>\n",
              "      <td>0.0</td>\n",
              "      <td>1.0</td>\n",
              "      <td>0.0</td>\n",
              "      <td>0.0</td>\n",
              "      <td>0.0</td>\n",
              "      <td>0.0</td>\n",
              "      <td>0.0</td>\n",
              "      <td>0.0</td>\n",
              "      <td>0.0</td>\n",
              "      <td>0.0</td>\n",
              "      <td>0.0</td>\n",
              "      <td>0.0</td>\n",
              "      <td>0.0</td>\n",
              "      <td>0.0</td>\n",
              "      <td>0.0</td>\n",
              "      <td>0.0</td>\n",
              "      <td>0.0</td>\n",
              "      <td>1.0</td>\n",
              "      <td>0.0</td>\n",
              "      <td>0.0</td>\n",
              "      <td>0.123</td>\n",
              "      <td>0.333333</td>\n",
              "      <td>0.533574</td>\n",
              "      <td>0.998872</td>\n",
              "    </tr>\n",
              "  </tbody>\n",
              "</table>\n",
              "<p>100000 rows × 42 columns</p>\n",
              "</div>"
            ],
            "text/plain": [
              "       provider_Lyft  provider_Uber  ...  sin_time  cos_time\n",
              "0                1.0            0.0  ...  0.910540  0.785407\n",
              "1                0.0            1.0  ...  0.910540  0.785407\n",
              "2                0.0            1.0  ...  0.910540  0.785407\n",
              "3                1.0            0.0  ...  0.910540  0.785407\n",
              "4                0.0            1.0  ...  0.910540  0.785407\n",
              "...              ...            ...  ...       ...       ...\n",
              "99995            0.0            1.0  ...  0.533574  0.998872\n",
              "99996            0.0            1.0  ...  0.533574  0.998872\n",
              "99997            0.0            1.0  ...  0.533574  0.998872\n",
              "99998            0.0            1.0  ...  0.533574  0.998872\n",
              "99999            0.0            1.0  ...  0.533574  0.998872\n",
              "\n",
              "[100000 rows x 42 columns]"
            ]
          },
          "metadata": {
            "tags": []
          },
          "execution_count": 141
        }
      ]
    },
    {
      "cell_type": "code",
      "metadata": {
        "id": "oEpgbq2k2HDF"
      },
      "source": [
        "from keras.layers import InputLayer, Dense, LSTM, Input, Dropout,Embedding, Flatten\n",
        "from keras.models import Sequential, Model\n",
        "from keras.optimizers import SGD,Adam,Adamax,Nadam,Ftrl,Adadelta,Adagrad,Nadam\n",
        "import tensorflow as tf\n",
        "from tensorflow.keras.callbacks import ModelCheckpoint\n",
        "from keras.backend import clear_session\n",
        "from tensorflow.keras.losses import mean_absolute_percentage_error, huber,kld,mse\n",
        "\n",
        "from keras.preprocessing.sequence import pad_sequences"
      ],
      "execution_count": 142,
      "outputs": []
    },
    {
      "cell_type": "code",
      "metadata": {
        "id": "VBXCGsAA2J9q"
      },
      "source": [
        "fname=\"_model_1_\""
      ],
      "execution_count": 143,
      "outputs": []
    },
    {
      "cell_type": "code",
      "metadata": {
        "colab": {
          "base_uri": "https://localhost:8080/",
          "height": 35
        },
        "id": "BN2UqVYqKLPn",
        "outputId": "5c66341d-3c92-4fb9-afe1-6a0646914cbf"
      },
      "source": [
        "'''\n",
        "from sklearn.ensemble import IsolationForest\n",
        "iso = IsolationForest(contamination=0.01)\n",
        "yhat = iso.fit_predict(X_trainn)\n",
        "'''"
      ],
      "execution_count": 144,
      "outputs": [
        {
          "output_type": "execute_result",
          "data": {
            "application/vnd.google.colaboratory.intrinsic+json": {
              "type": "string"
            },
            "text/plain": [
              "'\\nfrom sklearn.ensemble import IsolationForest\\niso = IsolationForest(contamination=0.01)\\nyhat = iso.fit_predict(X_trainn)\\n'"
            ]
          },
          "metadata": {
            "tags": []
          },
          "execution_count": 144
        }
      ]
    },
    {
      "cell_type": "code",
      "metadata": {
        "colab": {
          "base_uri": "https://localhost:8080/"
        },
        "id": "veWcJKAB2Nul",
        "outputId": "1ec9a3db-982e-470b-93de-96aef46a2ffb"
      },
      "source": [
        "clear_session()\n",
        "\n",
        "\n",
        "\n",
        "\n",
        "input_len=len(X_trainn.columns)\n",
        "print(input_len)\n",
        "output_size=1\n",
        "drop_frac0=0.0 \n",
        "drop_frac1=0.6\n",
        "\n",
        "\n",
        "\n",
        "input1=Input(shape=(input_len,),)\n",
        "\n",
        "\n",
        "#flatt=Flatten()(lstm1)\n",
        "\n",
        "non=170\n",
        "\n",
        "d1=Dense(non,activation=\"swish\")(input1)\n",
        "drop0=Dropout(drop_frac0)(d1)\n",
        "\n",
        "d2=Dense(non,activation=\"swish\")(drop0)\n",
        "drop1=Dropout(drop_frac1)(d2)\n",
        "\n",
        "d3=Dense(non,activation=\"swish\")(drop1)\n",
        "drop2=Dropout(drop_frac1)(d3)\n",
        "\n",
        "d4=Dense(non,activation=\"swish\")(drop2)\n",
        "drop3=Dropout(drop_frac1)(d4)\n",
        "\n",
        "d5=Dense(non,activation=\"swish\")(drop3)\n",
        "drop4=Dropout(drop_frac1)(d5)\n",
        "\n",
        "d6=Dense(non,activation=\"swish\")(drop4)\n",
        "drop5=Dropout(drop_frac1)(d6)\n",
        "\n",
        "d7=Dense(non,activation=\"swish\")(drop5)\n",
        "drop6=Dropout(drop_frac1)(d7)\n",
        "\n",
        "d8=Dense(non,activation=\"swish\")(drop6)\n",
        "drop7=Dropout(drop_frac1)(d8)\n",
        "\n",
        "d9=Dense(non,activation=\"swish\")(drop7)\n",
        "drop8=Dropout(drop_frac1)(d9)\n",
        "\n",
        "d10=Dense(non,activation=\"swish\")(drop8)\n",
        "drop9=Dropout(drop_frac1)(d10)\n",
        "\n",
        "d11=Dense(non,activation=\"swish\")(drop9)\n",
        "drop10=Dropout(drop_frac1)(d11)\n",
        "\n",
        "d12=Dense(non,activation=\"swish\")(drop10)\n",
        "drop11=Dropout(drop_frac1)(d12)\n",
        "\n",
        "d13=Dense(non,activation=\"swish\")(drop11)\n",
        "drop12=Dropout(drop_frac1)(d13)\n",
        "\n",
        "\n",
        "\n",
        "pred=Dense(output_size,activation=\"linear\")(drop12)\n",
        "\n",
        "model = Model(inputs=input1, outputs=pred)\n",
        "\n",
        "opt = tf.keras.optimizers.Adam(learning_rate=0.01)\n",
        "\n",
        "\n",
        "rmse = tf.keras.metrics.RootMeanSquaredError()\n",
        "model.compile(loss=\"mean_squared_error\",\n",
        "    optimizer=opt,\n",
        "    metrics=[rmse])"
      ],
      "execution_count": 164,
      "outputs": [
        {
          "output_type": "stream",
          "text": [
            "42\n"
          ],
          "name": "stdout"
        }
      ]
    },
    {
      "cell_type": "code",
      "metadata": {
        "id": "9Z72Ry8I_D5C"
      },
      "source": [
        "!rm _model*"
      ],
      "execution_count": 165,
      "outputs": []
    },
    {
      "cell_type": "code",
      "metadata": {
        "id": "8r_-zQJGE3Oj"
      },
      "source": [
        "def scheduler(epoch, lr):\n",
        "    return 0.0011"
      ],
      "execution_count": 166,
      "outputs": []
    },
    {
      "cell_type": "code",
      "metadata": {
        "id": "8YlHsl5fEpjY"
      },
      "source": [
        "callback_LR = tf.keras.callbacks.LearningRateScheduler(scheduler)"
      ],
      "execution_count": 167,
      "outputs": []
    },
    {
      "cell_type": "code",
      "metadata": {
        "id": "vbsnS6CX2RiM"
      },
      "source": [
        "callbacks = [callback_LR,\n",
        "       \n",
        "        ModelCheckpoint(filepath=fname+\"_{val_root_mean_squared_error:.5f}__.hdf5\", monitor='val_root_mean_squared_error',\n",
        "                        verbose=2, save_best_only=True, mode='min')]"
      ],
      "execution_count": 168,
      "outputs": []
    },
    {
      "cell_type": "code",
      "metadata": {
        "colab": {
          "base_uri": "https://localhost:8080/"
        },
        "id": "OwUxS__U2UHv",
        "outputId": "11307bb7-3e35-4c62-d9c5-66ed2aff1cbb"
      },
      "source": [
        "history = model.fit( X_trainn,ytrain, \n",
        "                        epochs=555, \n",
        "                        batch_size=500,validation_split=0.05,\n",
        "                        verbose=1,\n",
        "                        callbacks=callbacks,\n",
        "                              \n",
        "                              )"
      ],
      "execution_count": null,
      "outputs": [
        {
          "output_type": "stream",
          "text": [
            "Epoch 1/555\n",
            "190/190 [==============================] - 11s 51ms/step - loss: 0.0133 - root_mean_squared_error: 0.1140 - val_loss: 0.0018 - val_root_mean_squared_error: 0.0421\n",
            "\n",
            "Epoch 00001: val_root_mean_squared_error improved from inf to 0.04207, saving model to _model_1__0.04207__.hdf5\n",
            "Epoch 2/555\n",
            "190/190 [==============================] - 10s 50ms/step - loss: 0.0042 - root_mean_squared_error: 0.0650 - val_loss: 0.0013 - val_root_mean_squared_error: 0.0360\n",
            "\n",
            "Epoch 00002: val_root_mean_squared_error improved from 0.04207 to 0.03600, saving model to _model_1__0.03600__.hdf5\n",
            "Epoch 3/555\n",
            "190/190 [==============================] - 10s 51ms/step - loss: 0.0034 - root_mean_squared_error: 0.0584 - val_loss: 9.8723e-04 - val_root_mean_squared_error: 0.0314\n",
            "\n",
            "Epoch 00003: val_root_mean_squared_error improved from 0.03600 to 0.03142, saving model to _model_1__0.03142__.hdf5\n",
            "Epoch 4/555\n",
            "190/190 [==============================] - 10s 51ms/step - loss: 0.0029 - root_mean_squared_error: 0.0542 - val_loss: 9.1329e-04 - val_root_mean_squared_error: 0.0302\n",
            "\n",
            "Epoch 00004: val_root_mean_squared_error improved from 0.03142 to 0.03022, saving model to _model_1__0.03022__.hdf5\n",
            "Epoch 5/555\n",
            "190/190 [==============================] - 10s 52ms/step - loss: 0.0026 - root_mean_squared_error: 0.0512 - val_loss: 8.5317e-04 - val_root_mean_squared_error: 0.0292\n",
            "\n",
            "Epoch 00005: val_root_mean_squared_error improved from 0.03022 to 0.02921, saving model to _model_1__0.02921__.hdf5\n",
            "Epoch 6/555\n",
            "190/190 [==============================] - 10s 52ms/step - loss: 0.0021 - root_mean_squared_error: 0.0463 - val_loss: 6.1999e-04 - val_root_mean_squared_error: 0.0249\n",
            "\n",
            "Epoch 00006: val_root_mean_squared_error improved from 0.02921 to 0.02490, saving model to _model_1__0.02490__.hdf5\n",
            "Epoch 7/555\n",
            "190/190 [==============================] - 10s 52ms/step - loss: 0.0019 - root_mean_squared_error: 0.0438 - val_loss: 5.9500e-04 - val_root_mean_squared_error: 0.0244\n",
            "\n",
            "Epoch 00007: val_root_mean_squared_error improved from 0.02490 to 0.02439, saving model to _model_1__0.02439__.hdf5\n",
            "Epoch 8/555\n",
            "190/190 [==============================] - 10s 51ms/step - loss: 0.0017 - root_mean_squared_error: 0.0413 - val_loss: 5.7524e-04 - val_root_mean_squared_error: 0.0240\n",
            "\n",
            "Epoch 00008: val_root_mean_squared_error improved from 0.02439 to 0.02398, saving model to _model_1__0.02398__.hdf5\n",
            "Epoch 9/555\n",
            "190/190 [==============================] - 10s 51ms/step - loss: 0.0016 - root_mean_squared_error: 0.0394 - val_loss: 6.2700e-04 - val_root_mean_squared_error: 0.0250\n",
            "\n",
            "Epoch 00009: val_root_mean_squared_error did not improve from 0.02398\n",
            "Epoch 10/555\n",
            "190/190 [==============================] - 10s 51ms/step - loss: 0.0015 - root_mean_squared_error: 0.0387 - val_loss: 7.0890e-04 - val_root_mean_squared_error: 0.0266\n",
            "\n",
            "Epoch 00010: val_root_mean_squared_error did not improve from 0.02398\n",
            "Epoch 11/555\n",
            "190/190 [==============================] - 10s 51ms/step - loss: 0.0014 - root_mean_squared_error: 0.0377 - val_loss: 6.1642e-04 - val_root_mean_squared_error: 0.0248\n",
            "\n",
            "Epoch 00011: val_root_mean_squared_error did not improve from 0.02398\n",
            "Epoch 12/555\n",
            "190/190 [==============================] - 10s 51ms/step - loss: 0.0014 - root_mean_squared_error: 0.0373 - val_loss: 6.2355e-04 - val_root_mean_squared_error: 0.0250\n",
            "\n",
            "Epoch 00012: val_root_mean_squared_error did not improve from 0.02398\n",
            "Epoch 13/555\n",
            "190/190 [==============================] - 10s 51ms/step - loss: 0.0014 - root_mean_squared_error: 0.0375 - val_loss: 6.2961e-04 - val_root_mean_squared_error: 0.0251\n",
            "\n",
            "Epoch 00013: val_root_mean_squared_error did not improve from 0.02398\n",
            "Epoch 14/555\n",
            "190/190 [==============================] - 10s 52ms/step - loss: 0.0014 - root_mean_squared_error: 0.0368 - val_loss: 5.5841e-04 - val_root_mean_squared_error: 0.0236\n",
            "\n",
            "Epoch 00014: val_root_mean_squared_error improved from 0.02398 to 0.02363, saving model to _model_1__0.02363__.hdf5\n",
            "Epoch 15/555\n",
            "190/190 [==============================] - 10s 52ms/step - loss: 0.0013 - root_mean_squared_error: 0.0364 - val_loss: 5.3294e-04 - val_root_mean_squared_error: 0.0231\n",
            "\n",
            "Epoch 00015: val_root_mean_squared_error improved from 0.02363 to 0.02309, saving model to _model_1__0.02309__.hdf5\n",
            "Epoch 16/555\n",
            "190/190 [==============================] - 10s 52ms/step - loss: 0.0013 - root_mean_squared_error: 0.0360 - val_loss: 5.9599e-04 - val_root_mean_squared_error: 0.0244\n",
            "\n",
            "Epoch 00016: val_root_mean_squared_error did not improve from 0.02309\n",
            "Epoch 17/555\n",
            " 34/190 [====>.........................] - ETA: 7s - loss: 0.0013 - root_mean_squared_error: 0.0366"
          ],
          "name": "stdout"
        }
      ]
    },
    {
      "cell_type": "code",
      "metadata": {
        "id": "yF8pO7yFpfhf"
      },
      "source": [
        "!rm _model*"
      ],
      "execution_count": null,
      "outputs": []
    },
    {
      "cell_type": "code",
      "metadata": {
        "id": "e2guYGi84w-G"
      },
      "source": [
        "!rm visual_view.py\n",
        "!wget https://raw.githubusercontent.com/sipocz/messer/main/visual_view.py\n",
        "grafikon=None\n",
        "from visual_view import grafikon\n",
        "help(grafikon)"
      ],
      "execution_count": null,
      "outputs": []
    },
    {
      "cell_type": "code",
      "metadata": {
        "id": "XdX72Mk85JBd"
      },
      "source": [
        "datag=pd.DataFrame()\n",
        "y_pred=model.predict(Xtrain)\n",
        "\n"
      ],
      "execution_count": null,
      "outputs": []
    },
    {
      "cell_type": "code",
      "metadata": {
        "id": "wjGKdRDB5fd2"
      },
      "source": [
        "datag[\"pred\"]=list(y_pred.T[0])\n",
        "datag[\"y\"]=list(y_pred)\n",
        "datag[\"delta\"]=y_pred.T[0]-ytrain"
      ],
      "execution_count": null,
      "outputs": []
    },
    {
      "cell_type": "code",
      "metadata": {
        "id": "I0Wb2Avu5h8K"
      },
      "source": [
        "grafikon(datag,\"pred\",\"pred\",\"delta\",\"delta\")"
      ],
      "execution_count": null,
      "outputs": []
    },
    {
      "cell_type": "markdown",
      "metadata": {
        "id": "VS1uvzXiPSwJ"
      },
      "source": [
        "## betöltés"
      ]
    },
    {
      "cell_type": "code",
      "metadata": {
        "id": "8uuI6R2ZTYpB"
      },
      "source": [
        "!pip install xgboost"
      ],
      "execution_count": null,
      "outputs": []
    },
    {
      "cell_type": "code",
      "metadata": {
        "id": "Ea2RS70qGM2A"
      },
      "source": [
        "from sklearn.ensemble import GradientBoostingRegressor\n",
        "from sklearn.datasets import make_regression\n",
        "from sklearn.neural_network import MLPRegressor\n",
        "\n",
        "#regr = GradientBoostingRegressor(n_estimators=100,max_depth=500, random_state=0)\n",
        "#regr.fit(X_trainn, ytrain)\n",
        "\n",
        "regr = MLPRegressor(random_state=1, max_iter=500,verbose=True,tol=1e-8)\n",
        "regr.fit(X_trainn, ytrain)\n",
        "\n"
      ],
      "execution_count": null,
      "outputs": []
    },
    {
      "cell_type": "code",
      "metadata": {
        "id": "qmeu1p-kTxpb"
      },
      "source": [
        "import xgboost as xgb\n",
        "xgbr = xgb.XGBRegressor(n_estimators=300,   verbosity=2, max_depth=40) \n",
        "#print(xgbr)\n",
        "xgbr.fit(X_trainn, ytrain,)"
      ],
      "execution_count": null,
      "outputs": []
    },
    {
      "cell_type": "code",
      "metadata": {
        "id": "kb_rg2m8Yuy8"
      },
      "source": [
        "score = xgbr.score(X_trainn, ytrain,)  \n",
        "print(\"Training score: \", score)\n"
      ],
      "execution_count": null,
      "outputs": []
    },
    {
      "cell_type": "code",
      "metadata": {
        "id": "jgoBThyRV3fm"
      },
      "source": [
        "modelname=\"_model_1__1.64576__.hdf5\""
      ],
      "execution_count": null,
      "outputs": []
    },
    {
      "cell_type": "code",
      "metadata": {
        "id": "QgfMWXAPV72c"
      },
      "source": [
        "!wget https://github.com/sipocz/CabPrice/raw/main/_model_1__1.64576__.hdf5"
      ],
      "execution_count": null,
      "outputs": []
    },
    {
      "cell_type": "code",
      "metadata": {
        "id": "UmAcRtnlPSST"
      },
      "source": [
        "!wget https://github.com/sipocz/CabPrice/raw/B20210507/TEST.csv"
      ],
      "execution_count": null,
      "outputs": []
    },
    {
      "cell_type": "code",
      "metadata": {
        "id": "QOeLHRGXWvTV"
      },
      "source": [
        "\n",
        "\n",
        "model=tf.keras.models.load_model(modelname)"
      ],
      "execution_count": null,
      "outputs": []
    },
    {
      "cell_type": "code",
      "metadata": {
        "id": "zfSM_Ne9PjpQ"
      },
      "source": [
        "dft=pd.read_csv(\"TEST.csv\")"
      ],
      "execution_count": null,
      "outputs": []
    },
    {
      "cell_type": "code",
      "metadata": {
        "id": "jUnsqrdQWDBa"
      },
      "source": [
        ""
      ],
      "execution_count": null,
      "outputs": []
    },
    {
      "cell_type": "code",
      "metadata": {
        "id": "8kmN5lcBQIgq"
      },
      "source": [
        "dft.head()"
      ],
      "execution_count": null,
      "outputs": []
    },
    {
      "cell_type": "code",
      "metadata": {
        "id": "YkhLZZaa1Aho"
      },
      "source": [
        "dft.tail()"
      ],
      "execution_count": null,
      "outputs": []
    },
    {
      "cell_type": "code",
      "metadata": {
        "id": "2RVGcPw6Prqt"
      },
      "source": [
        "\n",
        "X_test=DataPipeLine(dft)"
      ],
      "execution_count": null,
      "outputs": []
    },
    {
      "cell_type": "code",
      "metadata": {
        "id": "bb6XzN0WXGsk"
      },
      "source": [
        "X_test.head()"
      ],
      "execution_count": null,
      "outputs": []
    },
    {
      "cell_type": "code",
      "metadata": {
        "id": "Pr1jrRZeP3Ya"
      },
      "source": [
        "y_test=model.predict(X_test)\n"
      ],
      "execution_count": null,
      "outputs": []
    },
    {
      "cell_type": "code",
      "metadata": {
        "id": "2bEyuaV-HwKe"
      },
      "source": [
        "y_regr=regr.predict(X_test)"
      ],
      "execution_count": null,
      "outputs": []
    },
    {
      "cell_type": "code",
      "metadata": {
        "id": "K8AYStY1UKTc"
      },
      "source": [
        "y_regr = xgbr.predict(X_test)*100"
      ],
      "execution_count": null,
      "outputs": []
    },
    {
      "cell_type": "code",
      "metadata": {
        "id": "OQuXYRckXah7"
      },
      "source": [
        "y_regr"
      ],
      "execution_count": null,
      "outputs": []
    },
    {
      "cell_type": "code",
      "metadata": {
        "id": "kaeywSS_H_1W"
      },
      "source": [
        "y_regr"
      ],
      "execution_count": null,
      "outputs": []
    },
    {
      "cell_type": "code",
      "metadata": {
        "id": "2-wJ7KIgQAB0"
      },
      "source": [
        "odf=pd.DataFrame(y_regr)"
      ],
      "execution_count": null,
      "outputs": []
    },
    {
      "cell_type": "code",
      "metadata": {
        "id": "A3zgCMUuIIOI"
      },
      "source": [
        ""
      ],
      "execution_count": null,
      "outputs": []
    },
    {
      "cell_type": "code",
      "metadata": {
        "id": "7Wfg-slpXgGh"
      },
      "source": [
        "odf.head()"
      ],
      "execution_count": null,
      "outputs": []
    },
    {
      "cell_type": "code",
      "metadata": {
        "id": "s0UBFbfhXrBd"
      },
      "source": [
        "!wget https://github.com/sipocz/CabPrice/raw/B20210507/sample_submission.csv"
      ],
      "execution_count": null,
      "outputs": []
    },
    {
      "cell_type": "code",
      "metadata": {
        "id": "YtZcw9MqX4xt"
      },
      "source": [
        "!head sample_submission.csv"
      ],
      "execution_count": null,
      "outputs": []
    },
    {
      "cell_type": "code",
      "metadata": {
        "id": "-oeZ9fvJatUl"
      },
      "source": [
        "def round_half(a):\n",
        "    return(a)\n",
        "    import math\n",
        "    e=math.floor(a)\n",
        "    m=a-e\n",
        "    if m>0.75:\n",
        "        return e+1\n",
        "    if m<0.25:\n",
        "        return e\n",
        "    return e+0.5"
      ],
      "execution_count": null,
      "outputs": []
    },
    {
      "cell_type": "code",
      "metadata": {
        "id": "5fyLcfDnYVSo"
      },
      "source": [
        "odf.columns=[\"fare2\"]\n",
        "odf.index.name=\"index\"\n",
        "odf[\"fare\"]=odf[\"fare2\"].apply(lambda x:round_half(x))\n"
      ],
      "execution_count": null,
      "outputs": []
    },
    {
      "cell_type": "code",
      "metadata": {
        "id": "Qsyx0GBUeRsW"
      },
      "source": [
        "del odf[\"fare2\"] #drop(['algebra', 'chemistry'], axis=1)\n",
        "odf.head()"
      ],
      "execution_count": null,
      "outputs": []
    },
    {
      "cell_type": "code",
      "metadata": {
        "id": "k8zJPD8MYqOv"
      },
      "source": [
        "odf.to_csv(\"submission_13.csv\")"
      ],
      "execution_count": null,
      "outputs": []
    },
    {
      "cell_type": "code",
      "metadata": {
        "id": "j8Dx32_1bnTA"
      },
      "source": [
        ""
      ],
      "execution_count": null,
      "outputs": []
    },
    {
      "cell_type": "code",
      "metadata": {
        "id": "k9kUnPdFY8QN"
      },
      "source": [
        "! head submission_13.csv"
      ],
      "execution_count": null,
      "outputs": []
    }
  ]
}