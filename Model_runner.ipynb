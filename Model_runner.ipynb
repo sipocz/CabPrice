{
  "nbformat": 4,
  "nbformat_minor": 0,
  "metadata": {
    "colab": {
      "name": "Model_runner.ipynb",
      "provenance": [],
      "collapsed_sections": [],
      "authorship_tag": "ABX9TyNeAUxYkF0jJHGe0BBFF8yl",
      "include_colab_link": true
    },
    "kernelspec": {
      "name": "python3",
      "display_name": "Python 3"
    },
    "language_info": {
      "name": "python"
    },
    "accelerator": "GPU"
  },
  "cells": [
    {
      "cell_type": "markdown",
      "metadata": {
        "id": "view-in-github",
        "colab_type": "text"
      },
      "source": [
        "<a href=\"https://colab.research.google.com/github/sipocz/CabPrice/blob/B20210523/Model_runner.ipynb\" target=\"_parent\"><img src=\"https://colab.research.google.com/assets/colab-badge.svg\" alt=\"Open In Colab\"/></a>"
      ]
    },
    {
      "cell_type": "code",
      "metadata": {
        "id": "AyGljpqdxwEq"
      },
      "source": [
        "import pandas as pd\n",
        "import numpy as np\n",
        "import tensorflow as tf"
      ],
      "execution_count": 85,
      "outputs": []
    },
    {
      "cell_type": "code",
      "metadata": {
        "id": "7tyhSL7fyjh3"
      },
      "source": [
        ""
      ],
      "execution_count": 85,
      "outputs": []
    },
    {
      "cell_type": "code",
      "metadata": {
        "id": "pFRiTn32BhN1"
      },
      "source": [
        "def DataPipeLine(df, startup=True):\n",
        "    #outlierek \n",
        "    if startup:\n",
        "        df[\"price_per\"]=df.fare/df.surge_multiplier/df.distance\n",
        "        df.drop(df[df['price_per'] > 73].index, inplace = True)\n",
        "        #df.drop(df[df.cab_provider==\"Lyft\"].index, inplace=True)\n",
        "    \n",
        "    df[\"sec\"]=(df.time_stamp/1000) % (24*3600)\n",
        "    seconds_in_day = 24*60*60\n",
        "    df['sin_time'] = (np.sin(2*np.pi*df.sec/seconds_in_day))\n",
        "    df['cos_time'] = (np.cos(2*np.pi*df.sec/seconds_in_day))\n",
        "\n",
        "    sources=pd.get_dummies(df[\"source\"],prefix='source',drop_first=False)\n",
        "    dest=pd.get_dummies(df[\"destination\"],prefix='dest',drop_first=False)\n",
        "    cab=pd.get_dummies(df[\"cab_provider\"],prefix='provider',drop_first=False)\n",
        "    \n",
        "    a=df.time_stamp\n",
        "    df[\"DateTime\"]=a.apply( lambda x:pd.Timestamp(x,unit=\"ms\"))\n",
        "    #df[\"dow\"]=df[\"DateTime\"].dt.dayofweek\n",
        "    \n",
        "    #dow=pd.get_dummies(df[\"dow\"],prefix='dow',drop_first=False)\n",
        "\n",
        "\n",
        "    sources=pd.get_dummies(df[\"source\"],prefix='source',drop_first=False)\n",
        "    dest=pd.get_dummies(df[\"destination\"],prefix='dest',drop_first=False)\n",
        "    cab=pd.get_dummies(df[\"cab_provider\"],prefix='provider',drop_first=False)\n",
        "    cabtype=pd.get_dummies(df[\"cab_type\"],prefix='cab_type',drop_first=False)\n",
        "\n",
        "    new = pd.DataFrame([df.DateTime, sources.columns, dest.columns])\n",
        "\n",
        "\n",
        "    Xret = pd.DataFrame([\n",
        "                    \n",
        "                    cab['provider_Lyft'],\n",
        "                    cab['provider_Uber'],\n",
        "                    sources['source_Back Bay'],sources['source_Beacon Hill'],sources['source_Boston University'],\n",
        "                    sources['source_Fenway'],sources['source_Financial District'],sources['source_Haymarket Square'],\n",
        "                    sources['source_North End'],sources['source_North Station'],sources['source_Northeastern University'],\n",
        "                    sources['source_South Station'],sources['source_Theatre District'],sources['source_West End'],\n",
        "                     \n",
        "                    dest['dest_Back Bay'],dest['dest_Beacon Hill'],dest['dest_Boston University'],\n",
        "                    dest['dest_Fenway'],dest['dest_Financial District'],dest['dest_Haymarket Square'],\n",
        "                    dest['dest_North End'],dest['dest_North Station'],dest['dest_Northeastern University'],\n",
        "                    dest['dest_South Station'],dest['dest_Theatre District'],dest['dest_West End'],\n",
        "\n",
        "                    cabtype['cab_type_Black'],cabtype['cab_type_Black SUV'],cabtype['cab_type_Lux'],cabtype['cab_type_Lux Black'],\n",
        "                    cabtype['cab_type_Lux Black XL'],cabtype['cab_type_Lyft'],cabtype['cab_type_Lyft XL'],cabtype['cab_type_Shared'],\n",
        "                    cabtype['cab_type_UberPool'],cabtype['cab_type_UberX'],cabtype['cab_type_UberXL'],cabtype['cab_type_WAV'],\n",
        "                    #dow[\"dow_0\"],dow[\"dow_1\"],dow[\"dow_2\"],\n",
        "\n",
        "\n",
        "\n",
        "                    df[\"distance\"],   # /10,\n",
        "                    df[\"surge_multiplier\"], #/3,\n",
        "                    (df[\"sin_time\"]/2)+0.5,\n",
        "                    (df[\"cos_time\"]/2)+0.5\n",
        "                    #df.fare/df[\"surge_multiplier\"]/df[\"distance\"],\n",
        "                    #df.fare\n",
        "                    ]).transpose()\n",
        "    return(Xret)\n",
        "\n"
      ],
      "execution_count": 86,
      "outputs": []
    },
    {
      "cell_type": "code",
      "metadata": {
        "colab": {
          "base_uri": "https://localhost:8080/"
        },
        "id": "VFdsEARWoCt7",
        "outputId": "a8f20d14-c4ad-49c9-9804-2ba5d09e6247"
      },
      "source": [
        "!wget -N \"https://github.com/sipocz/CabPrice/raw/main/models/Lyft_model_1__1.55319__.hdf5\""
      ],
      "execution_count": 87,
      "outputs": [
        {
          "output_type": "stream",
          "text": [
            "--2021-05-23 12:17:24--  https://github.com/sipocz/CabPrice/raw/main/models/Lyft_model_1__1.55319__.hdf5\n",
            "Resolving github.com (github.com)... 140.82.121.4\n",
            "Connecting to github.com (github.com)|140.82.121.4|:443... connected.\n",
            "HTTP request sent, awaiting response... 302 Found\n",
            "Location: https://raw.githubusercontent.com/sipocz/CabPrice/main/models/Lyft_model_1__1.55319__.hdf5 [following]\n",
            "--2021-05-23 12:17:24--  https://raw.githubusercontent.com/sipocz/CabPrice/main/models/Lyft_model_1__1.55319__.hdf5\n",
            "Resolving raw.githubusercontent.com (raw.githubusercontent.com)... 185.199.108.133, 185.199.109.133, 185.199.110.133, ...\n",
            "Connecting to raw.githubusercontent.com (raw.githubusercontent.com)|185.199.108.133|:443... connected.\n",
            "HTTP request sent, awaiting response... 200 OK\n",
            "Length: 2984400 (2.8M) [application/octet-stream]\n",
            "Saving to: ‘Lyft_model_1__1.55319__.hdf5’\n",
            "\n",
            "Lyft_model_1__1.553 100%[===================>]   2.85M  --.-KB/s    in 0.1s    \n",
            "\n",
            "Last-modified header missing -- time-stamps turned off.\n",
            "2021-05-23 12:17:25 (28.7 MB/s) - ‘Lyft_model_1__1.55319__.hdf5’ saved [2984400/2984400]\n",
            "\n"
          ],
          "name": "stdout"
        }
      ]
    },
    {
      "cell_type": "code",
      "metadata": {
        "colab": {
          "base_uri": "https://localhost:8080/"
        },
        "id": "hbtKhXHTrcpg",
        "outputId": "cfb70d5a-1132-4ce2-9eb7-daa0fb32a6b9"
      },
      "source": [
        "\n",
        "!wget -N \"https://github.com/sipocz/CabPrice/raw/main/models/Uber_model_1__1.90707__.hdf5\""
      ],
      "execution_count": 88,
      "outputs": [
        {
          "output_type": "stream",
          "text": [
            "--2021-05-23 12:17:25--  https://github.com/sipocz/CabPrice/raw/main/models/Uber_model_1__1.90707__.hdf5\n",
            "Resolving github.com (github.com)... 140.82.121.4\n",
            "Connecting to github.com (github.com)|140.82.121.4|:443... connected.\n",
            "HTTP request sent, awaiting response... 302 Found\n",
            "Location: https://raw.githubusercontent.com/sipocz/CabPrice/main/models/Uber_model_1__1.90707__.hdf5 [following]\n",
            "--2021-05-23 12:17:25--  https://raw.githubusercontent.com/sipocz/CabPrice/main/models/Uber_model_1__1.90707__.hdf5\n",
            "Resolving raw.githubusercontent.com (raw.githubusercontent.com)... 185.199.108.133, 185.199.109.133, 185.199.110.133, ...\n",
            "Connecting to raw.githubusercontent.com (raw.githubusercontent.com)|185.199.108.133|:443... connected.\n",
            "HTTP request sent, awaiting response... 200 OK\n",
            "Length: 2984400 (2.8M) [application/octet-stream]\n",
            "Saving to: ‘Uber_model_1__1.90707__.hdf5’\n",
            "\n",
            "Uber_model_1__1.907 100%[===================>]   2.85M  --.-KB/s    in 0.1s    \n",
            "\n",
            "Last-modified header missing -- time-stamps turned off.\n",
            "2021-05-23 12:17:26 (28.6 MB/s) - ‘Uber_model_1__1.90707__.hdf5’ saved [2984400/2984400]\n",
            "\n"
          ],
          "name": "stdout"
        }
      ]
    },
    {
      "cell_type": "code",
      "metadata": {
        "id": "slp-O7MfxfbJ"
      },
      "source": [
        "Lyftmodelname=\"Lyft_model_1__1.55319__.hdf5\"\n",
        "Lyftmodel=tf.keras.models.load_model(Lyftmodelname)"
      ],
      "execution_count": 89,
      "outputs": []
    },
    {
      "cell_type": "code",
      "metadata": {
        "id": "S_aMYqEsx92w"
      },
      "source": [
        "Ubermodelname=\"Uber_model_1__1.90707__.hdf5\"\n",
        "Ubermodel=tf.keras.models.load_model(Ubermodelname)"
      ],
      "execution_count": 90,
      "outputs": []
    },
    {
      "cell_type": "code",
      "metadata": {
        "id": "Dg1oGLCoySoj"
      },
      "source": [
        ""
      ],
      "execution_count": 90,
      "outputs": []
    },
    {
      "cell_type": "markdown",
      "metadata": {
        "id": "vWBoynKV8W5Y"
      },
      "source": [
        ""
      ]
    },
    {
      "cell_type": "code",
      "metadata": {
        "id": "UmAcRtnlPSST",
        "colab": {
          "base_uri": "https://localhost:8080/"
        },
        "outputId": "04781448-6743-4823-d50b-62519322aff5"
      },
      "source": [
        "!wget https://github.com/sipocz/CabPrice/raw/B20210507/TEST.csv"
      ],
      "execution_count": 91,
      "outputs": [
        {
          "output_type": "stream",
          "text": [
            "--2021-05-23 12:17:26--  https://github.com/sipocz/CabPrice/raw/B20210507/TEST.csv\n",
            "Resolving github.com (github.com)... 140.82.121.4\n",
            "Connecting to github.com (github.com)|140.82.121.4|:443... connected.\n",
            "HTTP request sent, awaiting response... 302 Found\n",
            "Location: https://raw.githubusercontent.com/sipocz/CabPrice/B20210507/TEST.csv [following]\n",
            "--2021-05-23 12:17:26--  https://raw.githubusercontent.com/sipocz/CabPrice/B20210507/TEST.csv\n",
            "Resolving raw.githubusercontent.com (raw.githubusercontent.com)... 185.199.108.133, 185.199.109.133, 185.199.110.133, ...\n",
            "Connecting to raw.githubusercontent.com (raw.githubusercontent.com)|185.199.108.133|:443... connected.\n",
            "HTTP request sent, awaiting response... 200 OK\n",
            "Length: 1757163 (1.7M) [text/plain]\n",
            "Saving to: ‘TEST.csv.3’\n",
            "\n",
            "TEST.csv.3          100%[===================>]   1.67M  --.-KB/s    in 0.07s   \n",
            "\n",
            "2021-05-23 12:17:27 (22.9 MB/s) - ‘TEST.csv.3’ saved [1757163/1757163]\n",
            "\n"
          ],
          "name": "stdout"
        }
      ]
    },
    {
      "cell_type": "code",
      "metadata": {
        "id": "zfSM_Ne9PjpQ"
      },
      "source": [
        "dft=pd.read_csv(\"TEST.csv\")"
      ],
      "execution_count": 92,
      "outputs": []
    },
    {
      "cell_type": "code",
      "metadata": {
        "id": "jUnsqrdQWDBa"
      },
      "source": [
        ""
      ],
      "execution_count": 92,
      "outputs": []
    },
    {
      "cell_type": "code",
      "metadata": {
        "id": "8kmN5lcBQIgq",
        "colab": {
          "base_uri": "https://localhost:8080/",
          "height": 204
        },
        "outputId": "68002d3d-1ff5-4172-cb44-c6e5d31e2031"
      },
      "source": [
        "dft.head()"
      ],
      "execution_count": 93,
      "outputs": [
        {
          "output_type": "execute_result",
          "data": {
            "text/html": [
              "<div>\n",
              "<style scoped>\n",
              "    .dataframe tbody tr th:only-of-type {\n",
              "        vertical-align: middle;\n",
              "    }\n",
              "\n",
              "    .dataframe tbody tr th {\n",
              "        vertical-align: top;\n",
              "    }\n",
              "\n",
              "    .dataframe thead th {\n",
              "        text-align: right;\n",
              "    }\n",
              "</style>\n",
              "<table border=\"1\" class=\"dataframe\">\n",
              "  <thead>\n",
              "    <tr style=\"text-align: right;\">\n",
              "      <th></th>\n",
              "      <th>index</th>\n",
              "      <th>time_stamp</th>\n",
              "      <th>cab_provider</th>\n",
              "      <th>source</th>\n",
              "      <th>destination</th>\n",
              "      <th>distance</th>\n",
              "      <th>surge_multiplier</th>\n",
              "      <th>cab_type</th>\n",
              "    </tr>\n",
              "  </thead>\n",
              "  <tbody>\n",
              "    <tr>\n",
              "      <th>0</th>\n",
              "      <td>0</td>\n",
              "      <td>1543364124206</td>\n",
              "      <td>Lyft</td>\n",
              "      <td>Theatre District</td>\n",
              "      <td>South Station</td>\n",
              "      <td>0.59</td>\n",
              "      <td>1.0</td>\n",
              "      <td>Lux</td>\n",
              "    </tr>\n",
              "    <tr>\n",
              "      <th>1</th>\n",
              "      <td>1</td>\n",
              "      <td>1543364124206</td>\n",
              "      <td>Lyft</td>\n",
              "      <td>Theatre District</td>\n",
              "      <td>South Station</td>\n",
              "      <td>0.59</td>\n",
              "      <td>1.0</td>\n",
              "      <td>Lux Black XL</td>\n",
              "    </tr>\n",
              "    <tr>\n",
              "      <th>2</th>\n",
              "      <td>2</td>\n",
              "      <td>1543364124206</td>\n",
              "      <td>Uber</td>\n",
              "      <td>Financial District</td>\n",
              "      <td>Fenway</td>\n",
              "      <td>6.83</td>\n",
              "      <td>1.0</td>\n",
              "      <td>UberX</td>\n",
              "    </tr>\n",
              "    <tr>\n",
              "      <th>3</th>\n",
              "      <td>3</td>\n",
              "      <td>1543364124206</td>\n",
              "      <td>Uber</td>\n",
              "      <td>Beacon Hill</td>\n",
              "      <td>Haymarket Square</td>\n",
              "      <td>1.35</td>\n",
              "      <td>1.0</td>\n",
              "      <td>UberXL</td>\n",
              "    </tr>\n",
              "    <tr>\n",
              "      <th>4</th>\n",
              "      <td>4</td>\n",
              "      <td>1543364124206</td>\n",
              "      <td>Lyft</td>\n",
              "      <td>Theatre District</td>\n",
              "      <td>South Station</td>\n",
              "      <td>0.59</td>\n",
              "      <td>1.0</td>\n",
              "      <td>Lyft XL</td>\n",
              "    </tr>\n",
              "  </tbody>\n",
              "</table>\n",
              "</div>"
            ],
            "text/plain": [
              "   index     time_stamp cab_provider  ... distance surge_multiplier      cab_type\n",
              "0      0  1543364124206         Lyft  ...     0.59              1.0           Lux\n",
              "1      1  1543364124206         Lyft  ...     0.59              1.0  Lux Black XL\n",
              "2      2  1543364124206         Uber  ...     6.83              1.0         UberX\n",
              "3      3  1543364124206         Uber  ...     1.35              1.0        UberXL\n",
              "4      4  1543364124206         Lyft  ...     0.59              1.0       Lyft XL\n",
              "\n",
              "[5 rows x 8 columns]"
            ]
          },
          "metadata": {
            "tags": []
          },
          "execution_count": 93
        }
      ]
    },
    {
      "cell_type": "code",
      "metadata": {
        "id": "YkhLZZaa1Aho",
        "colab": {
          "base_uri": "https://localhost:8080/",
          "height": 204
        },
        "outputId": "b76a2a91-fbef-43e8-883d-06b188e9aeb7"
      },
      "source": [
        "dft.tail()"
      ],
      "execution_count": 94,
      "outputs": [
        {
          "output_type": "execute_result",
          "data": {
            "text/html": [
              "<div>\n",
              "<style scoped>\n",
              "    .dataframe tbody tr th:only-of-type {\n",
              "        vertical-align: middle;\n",
              "    }\n",
              "\n",
              "    .dataframe tbody tr th {\n",
              "        vertical-align: top;\n",
              "    }\n",
              "\n",
              "    .dataframe thead th {\n",
              "        text-align: right;\n",
              "    }\n",
              "</style>\n",
              "<table border=\"1\" class=\"dataframe\">\n",
              "  <thead>\n",
              "    <tr style=\"text-align: right;\">\n",
              "      <th></th>\n",
              "      <th>index</th>\n",
              "      <th>time_stamp</th>\n",
              "      <th>cab_provider</th>\n",
              "      <th>source</th>\n",
              "      <th>destination</th>\n",
              "      <th>distance</th>\n",
              "      <th>surge_multiplier</th>\n",
              "      <th>cab_type</th>\n",
              "    </tr>\n",
              "  </thead>\n",
              "  <tbody>\n",
              "    <tr>\n",
              "      <th>24995</th>\n",
              "      <td>24995</td>\n",
              "      <td>1543413683462</td>\n",
              "      <td>Uber</td>\n",
              "      <td>North Station</td>\n",
              "      <td>Fenway</td>\n",
              "      <td>3.05</td>\n",
              "      <td>1.0</td>\n",
              "      <td>UberPool</td>\n",
              "    </tr>\n",
              "    <tr>\n",
              "      <th>24996</th>\n",
              "      <td>24996</td>\n",
              "      <td>1543413683462</td>\n",
              "      <td>Uber</td>\n",
              "      <td>North Station</td>\n",
              "      <td>Fenway</td>\n",
              "      <td>3.05</td>\n",
              "      <td>1.0</td>\n",
              "      <td>WAV</td>\n",
              "    </tr>\n",
              "    <tr>\n",
              "      <th>24997</th>\n",
              "      <td>24997</td>\n",
              "      <td>1543413683462</td>\n",
              "      <td>Uber</td>\n",
              "      <td>North Station</td>\n",
              "      <td>Fenway</td>\n",
              "      <td>3.05</td>\n",
              "      <td>1.0</td>\n",
              "      <td>Black SUV</td>\n",
              "    </tr>\n",
              "    <tr>\n",
              "      <th>24998</th>\n",
              "      <td>24998</td>\n",
              "      <td>1543413683687</td>\n",
              "      <td>Lyft</td>\n",
              "      <td>Boston University</td>\n",
              "      <td>Theatre District</td>\n",
              "      <td>2.96</td>\n",
              "      <td>1.0</td>\n",
              "      <td>Shared</td>\n",
              "    </tr>\n",
              "    <tr>\n",
              "      <th>24999</th>\n",
              "      <td>24999</td>\n",
              "      <td>1543413683687</td>\n",
              "      <td>Lyft</td>\n",
              "      <td>Boston University</td>\n",
              "      <td>Theatre District</td>\n",
              "      <td>2.96</td>\n",
              "      <td>1.0</td>\n",
              "      <td>Lux</td>\n",
              "    </tr>\n",
              "  </tbody>\n",
              "</table>\n",
              "</div>"
            ],
            "text/plain": [
              "       index     time_stamp cab_provider  ... distance surge_multiplier   cab_type\n",
              "24995  24995  1543413683462         Uber  ...     3.05              1.0   UberPool\n",
              "24996  24996  1543413683462         Uber  ...     3.05              1.0        WAV\n",
              "24997  24997  1543413683462         Uber  ...     3.05              1.0  Black SUV\n",
              "24998  24998  1543413683687         Lyft  ...     2.96              1.0     Shared\n",
              "24999  24999  1543413683687         Lyft  ...     2.96              1.0        Lux\n",
              "\n",
              "[5 rows x 8 columns]"
            ]
          },
          "metadata": {
            "tags": []
          },
          "execution_count": 94
        }
      ]
    },
    {
      "cell_type": "code",
      "metadata": {
        "id": "2RVGcPw6Prqt"
      },
      "source": [
        "\n",
        "X_test=DataPipeLine(dft,startup=False)"
      ],
      "execution_count": 95,
      "outputs": []
    },
    {
      "cell_type": "code",
      "metadata": {
        "id": "bb6XzN0WXGsk",
        "colab": {
          "base_uri": "https://localhost:8080/",
          "height": 241
        },
        "outputId": "f0946714-b142-4293-ca81-8684bc5179c9"
      },
      "source": [
        "X_test.head()"
      ],
      "execution_count": 96,
      "outputs": [
        {
          "output_type": "execute_result",
          "data": {
            "text/html": [
              "<div>\n",
              "<style scoped>\n",
              "    .dataframe tbody tr th:only-of-type {\n",
              "        vertical-align: middle;\n",
              "    }\n",
              "\n",
              "    .dataframe tbody tr th {\n",
              "        vertical-align: top;\n",
              "    }\n",
              "\n",
              "    .dataframe thead th {\n",
              "        text-align: right;\n",
              "    }\n",
              "</style>\n",
              "<table border=\"1\" class=\"dataframe\">\n",
              "  <thead>\n",
              "    <tr style=\"text-align: right;\">\n",
              "      <th></th>\n",
              "      <th>provider_Lyft</th>\n",
              "      <th>provider_Uber</th>\n",
              "      <th>source_Back Bay</th>\n",
              "      <th>source_Beacon Hill</th>\n",
              "      <th>source_Boston University</th>\n",
              "      <th>source_Fenway</th>\n",
              "      <th>source_Financial District</th>\n",
              "      <th>source_Haymarket Square</th>\n",
              "      <th>source_North End</th>\n",
              "      <th>source_North Station</th>\n",
              "      <th>source_Northeastern University</th>\n",
              "      <th>source_South Station</th>\n",
              "      <th>source_Theatre District</th>\n",
              "      <th>source_West End</th>\n",
              "      <th>dest_Back Bay</th>\n",
              "      <th>dest_Beacon Hill</th>\n",
              "      <th>dest_Boston University</th>\n",
              "      <th>dest_Fenway</th>\n",
              "      <th>dest_Financial District</th>\n",
              "      <th>dest_Haymarket Square</th>\n",
              "      <th>dest_North End</th>\n",
              "      <th>dest_North Station</th>\n",
              "      <th>dest_Northeastern University</th>\n",
              "      <th>dest_South Station</th>\n",
              "      <th>dest_Theatre District</th>\n",
              "      <th>dest_West End</th>\n",
              "      <th>cab_type_Black</th>\n",
              "      <th>cab_type_Black SUV</th>\n",
              "      <th>cab_type_Lux</th>\n",
              "      <th>cab_type_Lux Black</th>\n",
              "      <th>cab_type_Lux Black XL</th>\n",
              "      <th>cab_type_Lyft</th>\n",
              "      <th>cab_type_Lyft XL</th>\n",
              "      <th>cab_type_Shared</th>\n",
              "      <th>cab_type_UberPool</th>\n",
              "      <th>cab_type_UberX</th>\n",
              "      <th>cab_type_UberXL</th>\n",
              "      <th>cab_type_WAV</th>\n",
              "      <th>distance</th>\n",
              "      <th>surge_multiplier</th>\n",
              "      <th>sin_time</th>\n",
              "      <th>cos_time</th>\n",
              "    </tr>\n",
              "  </thead>\n",
              "  <tbody>\n",
              "    <tr>\n",
              "      <th>0</th>\n",
              "      <td>1.0</td>\n",
              "      <td>0.0</td>\n",
              "      <td>0.0</td>\n",
              "      <td>0.0</td>\n",
              "      <td>0.0</td>\n",
              "      <td>0.0</td>\n",
              "      <td>0.0</td>\n",
              "      <td>0.0</td>\n",
              "      <td>0.0</td>\n",
              "      <td>0.0</td>\n",
              "      <td>0.0</td>\n",
              "      <td>0.0</td>\n",
              "      <td>1.0</td>\n",
              "      <td>0.0</td>\n",
              "      <td>0.0</td>\n",
              "      <td>0.0</td>\n",
              "      <td>0.0</td>\n",
              "      <td>0.0</td>\n",
              "      <td>0.0</td>\n",
              "      <td>0.0</td>\n",
              "      <td>0.0</td>\n",
              "      <td>0.0</td>\n",
              "      <td>0.0</td>\n",
              "      <td>1.0</td>\n",
              "      <td>0.0</td>\n",
              "      <td>0.0</td>\n",
              "      <td>0.0</td>\n",
              "      <td>0.0</td>\n",
              "      <td>1.0</td>\n",
              "      <td>0.0</td>\n",
              "      <td>0.0</td>\n",
              "      <td>0.0</td>\n",
              "      <td>0.0</td>\n",
              "      <td>0.0</td>\n",
              "      <td>0.0</td>\n",
              "      <td>0.0</td>\n",
              "      <td>0.0</td>\n",
              "      <td>0.0</td>\n",
              "      <td>0.59</td>\n",
              "      <td>1.0</td>\n",
              "      <td>0.53358</td>\n",
              "      <td>0.998871</td>\n",
              "    </tr>\n",
              "    <tr>\n",
              "      <th>1</th>\n",
              "      <td>1.0</td>\n",
              "      <td>0.0</td>\n",
              "      <td>0.0</td>\n",
              "      <td>0.0</td>\n",
              "      <td>0.0</td>\n",
              "      <td>0.0</td>\n",
              "      <td>0.0</td>\n",
              "      <td>0.0</td>\n",
              "      <td>0.0</td>\n",
              "      <td>0.0</td>\n",
              "      <td>0.0</td>\n",
              "      <td>0.0</td>\n",
              "      <td>1.0</td>\n",
              "      <td>0.0</td>\n",
              "      <td>0.0</td>\n",
              "      <td>0.0</td>\n",
              "      <td>0.0</td>\n",
              "      <td>0.0</td>\n",
              "      <td>0.0</td>\n",
              "      <td>0.0</td>\n",
              "      <td>0.0</td>\n",
              "      <td>0.0</td>\n",
              "      <td>0.0</td>\n",
              "      <td>1.0</td>\n",
              "      <td>0.0</td>\n",
              "      <td>0.0</td>\n",
              "      <td>0.0</td>\n",
              "      <td>0.0</td>\n",
              "      <td>0.0</td>\n",
              "      <td>0.0</td>\n",
              "      <td>1.0</td>\n",
              "      <td>0.0</td>\n",
              "      <td>0.0</td>\n",
              "      <td>0.0</td>\n",
              "      <td>0.0</td>\n",
              "      <td>0.0</td>\n",
              "      <td>0.0</td>\n",
              "      <td>0.0</td>\n",
              "      <td>0.59</td>\n",
              "      <td>1.0</td>\n",
              "      <td>0.53358</td>\n",
              "      <td>0.998871</td>\n",
              "    </tr>\n",
              "    <tr>\n",
              "      <th>2</th>\n",
              "      <td>0.0</td>\n",
              "      <td>1.0</td>\n",
              "      <td>0.0</td>\n",
              "      <td>0.0</td>\n",
              "      <td>0.0</td>\n",
              "      <td>0.0</td>\n",
              "      <td>1.0</td>\n",
              "      <td>0.0</td>\n",
              "      <td>0.0</td>\n",
              "      <td>0.0</td>\n",
              "      <td>0.0</td>\n",
              "      <td>0.0</td>\n",
              "      <td>0.0</td>\n",
              "      <td>0.0</td>\n",
              "      <td>0.0</td>\n",
              "      <td>0.0</td>\n",
              "      <td>0.0</td>\n",
              "      <td>1.0</td>\n",
              "      <td>0.0</td>\n",
              "      <td>0.0</td>\n",
              "      <td>0.0</td>\n",
              "      <td>0.0</td>\n",
              "      <td>0.0</td>\n",
              "      <td>0.0</td>\n",
              "      <td>0.0</td>\n",
              "      <td>0.0</td>\n",
              "      <td>0.0</td>\n",
              "      <td>0.0</td>\n",
              "      <td>0.0</td>\n",
              "      <td>0.0</td>\n",
              "      <td>0.0</td>\n",
              "      <td>0.0</td>\n",
              "      <td>0.0</td>\n",
              "      <td>0.0</td>\n",
              "      <td>0.0</td>\n",
              "      <td>1.0</td>\n",
              "      <td>0.0</td>\n",
              "      <td>0.0</td>\n",
              "      <td>6.83</td>\n",
              "      <td>1.0</td>\n",
              "      <td>0.53358</td>\n",
              "      <td>0.998871</td>\n",
              "    </tr>\n",
              "    <tr>\n",
              "      <th>3</th>\n",
              "      <td>0.0</td>\n",
              "      <td>1.0</td>\n",
              "      <td>0.0</td>\n",
              "      <td>1.0</td>\n",
              "      <td>0.0</td>\n",
              "      <td>0.0</td>\n",
              "      <td>0.0</td>\n",
              "      <td>0.0</td>\n",
              "      <td>0.0</td>\n",
              "      <td>0.0</td>\n",
              "      <td>0.0</td>\n",
              "      <td>0.0</td>\n",
              "      <td>0.0</td>\n",
              "      <td>0.0</td>\n",
              "      <td>0.0</td>\n",
              "      <td>0.0</td>\n",
              "      <td>0.0</td>\n",
              "      <td>0.0</td>\n",
              "      <td>0.0</td>\n",
              "      <td>1.0</td>\n",
              "      <td>0.0</td>\n",
              "      <td>0.0</td>\n",
              "      <td>0.0</td>\n",
              "      <td>0.0</td>\n",
              "      <td>0.0</td>\n",
              "      <td>0.0</td>\n",
              "      <td>0.0</td>\n",
              "      <td>0.0</td>\n",
              "      <td>0.0</td>\n",
              "      <td>0.0</td>\n",
              "      <td>0.0</td>\n",
              "      <td>0.0</td>\n",
              "      <td>0.0</td>\n",
              "      <td>0.0</td>\n",
              "      <td>0.0</td>\n",
              "      <td>0.0</td>\n",
              "      <td>1.0</td>\n",
              "      <td>0.0</td>\n",
              "      <td>1.35</td>\n",
              "      <td>1.0</td>\n",
              "      <td>0.53358</td>\n",
              "      <td>0.998871</td>\n",
              "    </tr>\n",
              "    <tr>\n",
              "      <th>4</th>\n",
              "      <td>1.0</td>\n",
              "      <td>0.0</td>\n",
              "      <td>0.0</td>\n",
              "      <td>0.0</td>\n",
              "      <td>0.0</td>\n",
              "      <td>0.0</td>\n",
              "      <td>0.0</td>\n",
              "      <td>0.0</td>\n",
              "      <td>0.0</td>\n",
              "      <td>0.0</td>\n",
              "      <td>0.0</td>\n",
              "      <td>0.0</td>\n",
              "      <td>1.0</td>\n",
              "      <td>0.0</td>\n",
              "      <td>0.0</td>\n",
              "      <td>0.0</td>\n",
              "      <td>0.0</td>\n",
              "      <td>0.0</td>\n",
              "      <td>0.0</td>\n",
              "      <td>0.0</td>\n",
              "      <td>0.0</td>\n",
              "      <td>0.0</td>\n",
              "      <td>0.0</td>\n",
              "      <td>1.0</td>\n",
              "      <td>0.0</td>\n",
              "      <td>0.0</td>\n",
              "      <td>0.0</td>\n",
              "      <td>0.0</td>\n",
              "      <td>0.0</td>\n",
              "      <td>0.0</td>\n",
              "      <td>0.0</td>\n",
              "      <td>0.0</td>\n",
              "      <td>1.0</td>\n",
              "      <td>0.0</td>\n",
              "      <td>0.0</td>\n",
              "      <td>0.0</td>\n",
              "      <td>0.0</td>\n",
              "      <td>0.0</td>\n",
              "      <td>0.59</td>\n",
              "      <td>1.0</td>\n",
              "      <td>0.53358</td>\n",
              "      <td>0.998871</td>\n",
              "    </tr>\n",
              "  </tbody>\n",
              "</table>\n",
              "</div>"
            ],
            "text/plain": [
              "   provider_Lyft  provider_Uber  ...  sin_time  cos_time\n",
              "0            1.0            0.0  ...   0.53358  0.998871\n",
              "1            1.0            0.0  ...   0.53358  0.998871\n",
              "2            0.0            1.0  ...   0.53358  0.998871\n",
              "3            0.0            1.0  ...   0.53358  0.998871\n",
              "4            1.0            0.0  ...   0.53358  0.998871\n",
              "\n",
              "[5 rows x 42 columns]"
            ]
          },
          "metadata": {
            "tags": []
          },
          "execution_count": 96
        }
      ]
    },
    {
      "cell_type": "code",
      "metadata": {
        "id": "3IStexD3gUZX"
      },
      "source": [
        "remover=X_test[X_test.provider_Uber==1].index\n",
        "X_test_Lyft=X_test.drop(remover, inplace=False)\n",
        "\n",
        "remover=X_test[X_test.provider_Lyft==1].index\n",
        "X_test_Uber=X_test.drop(remover, inplace=False)\n",
        "\n",
        "\n",
        "\n"
      ],
      "execution_count": 97,
      "outputs": []
    },
    {
      "cell_type": "code",
      "metadata": {
        "id": "GipaDdp9ydRJ"
      },
      "source": [
        ""
      ],
      "execution_count": 97,
      "outputs": []
    },
    {
      "cell_type": "code",
      "metadata": {
        "id": "Pr1jrRZeP3Ya"
      },
      "source": [
        "y_test_Lyft=Lyftmodel.predict(X_test_Lyft)\n"
      ],
      "execution_count": 98,
      "outputs": []
    },
    {
      "cell_type": "code",
      "metadata": {
        "id": "1TkCzwxlhCGO"
      },
      "source": [
        "y_test_Uber=Ubermodel.predict(X_test_Uber)"
      ],
      "execution_count": 99,
      "outputs": []
    },
    {
      "cell_type": "code",
      "metadata": {
        "id": "Nhc99PSAhOlo",
        "colab": {
          "base_uri": "https://localhost:8080/"
        },
        "outputId": "cfd27e73-2136-4b9c-90d9-5ed1dcd80729"
      },
      "source": [
        "y_test_Uber"
      ],
      "execution_count": 100,
      "outputs": [
        {
          "output_type": "execute_result",
          "data": {
            "text/plain": [
              "array([[16.255634],\n",
              "       [13.223509],\n",
              "       [15.929255],\n",
              "       ...,\n",
              "       [ 9.694903],\n",
              "       [10.838896],\n",
              "       [32.98899 ]], dtype=float32)"
            ]
          },
          "metadata": {
            "tags": []
          },
          "execution_count": 100
        }
      ]
    },
    {
      "cell_type": "code",
      "metadata": {
        "id": "2bEyuaV-HwKe"
      },
      "source": [
        "df_Uber=pd.DataFrame(y_test_Uber,index=X_test_Uber.index)"
      ],
      "execution_count": 101,
      "outputs": []
    },
    {
      "cell_type": "code",
      "metadata": {
        "id": "K8AYStY1UKTc",
        "colab": {
          "base_uri": "https://localhost:8080/",
          "height": 204
        },
        "outputId": "228b8b5a-b932-4476-e6a2-8f8a0e0bd9ba"
      },
      "source": [
        "df_Uber.head()"
      ],
      "execution_count": 102,
      "outputs": [
        {
          "output_type": "execute_result",
          "data": {
            "text/html": [
              "<div>\n",
              "<style scoped>\n",
              "    .dataframe tbody tr th:only-of-type {\n",
              "        vertical-align: middle;\n",
              "    }\n",
              "\n",
              "    .dataframe tbody tr th {\n",
              "        vertical-align: top;\n",
              "    }\n",
              "\n",
              "    .dataframe thead th {\n",
              "        text-align: right;\n",
              "    }\n",
              "</style>\n",
              "<table border=\"1\" class=\"dataframe\">\n",
              "  <thead>\n",
              "    <tr style=\"text-align: right;\">\n",
              "      <th></th>\n",
              "      <th>0</th>\n",
              "    </tr>\n",
              "  </thead>\n",
              "  <tbody>\n",
              "    <tr>\n",
              "      <th>2</th>\n",
              "      <td>16.255634</td>\n",
              "    </tr>\n",
              "    <tr>\n",
              "      <th>3</th>\n",
              "      <td>13.223509</td>\n",
              "    </tr>\n",
              "    <tr>\n",
              "      <th>12</th>\n",
              "      <td>15.929255</td>\n",
              "    </tr>\n",
              "    <tr>\n",
              "      <th>21</th>\n",
              "      <td>31.324100</td>\n",
              "    </tr>\n",
              "    <tr>\n",
              "      <th>23</th>\n",
              "      <td>11.244592</td>\n",
              "    </tr>\n",
              "  </tbody>\n",
              "</table>\n",
              "</div>"
            ],
            "text/plain": [
              "            0\n",
              "2   16.255634\n",
              "3   13.223509\n",
              "12  15.929255\n",
              "21  31.324100\n",
              "23  11.244592"
            ]
          },
          "metadata": {
            "tags": []
          },
          "execution_count": 102
        }
      ]
    },
    {
      "cell_type": "code",
      "metadata": {
        "id": "-CYRVn9CjV5E"
      },
      "source": [
        "df_Lyft=pd.DataFrame(y_test_Lyft,index=X_test_Lyft.index)"
      ],
      "execution_count": 103,
      "outputs": []
    },
    {
      "cell_type": "code",
      "metadata": {
        "id": "1lAe58XJjhOS"
      },
      "source": [
        "df_all=df_Lyft.append(df_Uber)"
      ],
      "execution_count": 104,
      "outputs": []
    },
    {
      "cell_type": "code",
      "metadata": {
        "id": "nyq0SGwsjll0"
      },
      "source": [
        "df_all.sort_index(inplace=True)"
      ],
      "execution_count": 105,
      "outputs": []
    },
    {
      "cell_type": "code",
      "metadata": {
        "id": "VBgcdECiqnwY",
        "colab": {
          "base_uri": "https://localhost:8080/",
          "height": 204
        },
        "outputId": "2c58d55a-8b74-43c6-ae5a-720006a635db"
      },
      "source": [
        "df_all.head()"
      ],
      "execution_count": 106,
      "outputs": [
        {
          "output_type": "execute_result",
          "data": {
            "text/html": [
              "<div>\n",
              "<style scoped>\n",
              "    .dataframe tbody tr th:only-of-type {\n",
              "        vertical-align: middle;\n",
              "    }\n",
              "\n",
              "    .dataframe tbody tr th {\n",
              "        vertical-align: top;\n",
              "    }\n",
              "\n",
              "    .dataframe thead th {\n",
              "        text-align: right;\n",
              "    }\n",
              "</style>\n",
              "<table border=\"1\" class=\"dataframe\">\n",
              "  <thead>\n",
              "    <tr style=\"text-align: right;\">\n",
              "      <th></th>\n",
              "      <th>0</th>\n",
              "    </tr>\n",
              "  </thead>\n",
              "  <tbody>\n",
              "    <tr>\n",
              "      <th>0</th>\n",
              "      <td>11.501850</td>\n",
              "    </tr>\n",
              "    <tr>\n",
              "      <th>1</th>\n",
              "      <td>26.439692</td>\n",
              "    </tr>\n",
              "    <tr>\n",
              "      <th>2</th>\n",
              "      <td>16.255634</td>\n",
              "    </tr>\n",
              "    <tr>\n",
              "      <th>3</th>\n",
              "      <td>13.223509</td>\n",
              "    </tr>\n",
              "    <tr>\n",
              "      <th>4</th>\n",
              "      <td>10.075735</td>\n",
              "    </tr>\n",
              "  </tbody>\n",
              "</table>\n",
              "</div>"
            ],
            "text/plain": [
              "           0\n",
              "0  11.501850\n",
              "1  26.439692\n",
              "2  16.255634\n",
              "3  13.223509\n",
              "4  10.075735"
            ]
          },
          "metadata": {
            "tags": []
          },
          "execution_count": 106
        }
      ]
    },
    {
      "cell_type": "code",
      "metadata": {
        "id": "-oeZ9fvJatUl"
      },
      "source": [
        "def round_half(a):\n",
        "    #return(a)\n",
        "    import math\n",
        "    e=math.floor(a)\n",
        "    m=a-e\n",
        "    if m>0.85:\n",
        "        return e+1\n",
        "    if m<0.15:\n",
        "        return e\n",
        "    return a"
      ],
      "execution_count": 107,
      "outputs": []
    },
    {
      "cell_type": "code",
      "metadata": {
        "id": "5fyLcfDnYVSo"
      },
      "source": [
        "df_all.columns=[\"fareX\"]\n",
        "df_all.index.name=\"index\"\n",
        "df_all[\"fare\"]=df_all[\"fareX\"].apply(lambda x:round_half(x))\n"
      ],
      "execution_count": 108,
      "outputs": []
    },
    {
      "cell_type": "code",
      "metadata": {
        "id": "Qsyx0GBUeRsW",
        "colab": {
          "base_uri": "https://localhost:8080/",
          "height": 235
        },
        "outputId": "82264c6b-0e90-4298-d0a4-9aa84103af4e"
      },
      "source": [
        "#del odf[\"fare2\"] #drop(['algebra', 'chemistry'], axis=1)\n",
        "df_all.head()"
      ],
      "execution_count": 109,
      "outputs": [
        {
          "output_type": "execute_result",
          "data": {
            "text/html": [
              "<div>\n",
              "<style scoped>\n",
              "    .dataframe tbody tr th:only-of-type {\n",
              "        vertical-align: middle;\n",
              "    }\n",
              "\n",
              "    .dataframe tbody tr th {\n",
              "        vertical-align: top;\n",
              "    }\n",
              "\n",
              "    .dataframe thead th {\n",
              "        text-align: right;\n",
              "    }\n",
              "</style>\n",
              "<table border=\"1\" class=\"dataframe\">\n",
              "  <thead>\n",
              "    <tr style=\"text-align: right;\">\n",
              "      <th></th>\n",
              "      <th>fareX</th>\n",
              "      <th>fare</th>\n",
              "    </tr>\n",
              "    <tr>\n",
              "      <th>index</th>\n",
              "      <th></th>\n",
              "      <th></th>\n",
              "    </tr>\n",
              "  </thead>\n",
              "  <tbody>\n",
              "    <tr>\n",
              "      <th>0</th>\n",
              "      <td>11.501850</td>\n",
              "      <td>11.501850</td>\n",
              "    </tr>\n",
              "    <tr>\n",
              "      <th>1</th>\n",
              "      <td>26.439692</td>\n",
              "      <td>26.439692</td>\n",
              "    </tr>\n",
              "    <tr>\n",
              "      <th>2</th>\n",
              "      <td>16.255634</td>\n",
              "      <td>16.255634</td>\n",
              "    </tr>\n",
              "    <tr>\n",
              "      <th>3</th>\n",
              "      <td>13.223509</td>\n",
              "      <td>13.223509</td>\n",
              "    </tr>\n",
              "    <tr>\n",
              "      <th>4</th>\n",
              "      <td>10.075735</td>\n",
              "      <td>10.000000</td>\n",
              "    </tr>\n",
              "  </tbody>\n",
              "</table>\n",
              "</div>"
            ],
            "text/plain": [
              "           fareX       fare\n",
              "index                      \n",
              "0      11.501850  11.501850\n",
              "1      26.439692  26.439692\n",
              "2      16.255634  16.255634\n",
              "3      13.223509  13.223509\n",
              "4      10.075735  10.000000"
            ]
          },
          "metadata": {
            "tags": []
          },
          "execution_count": 109
        }
      ]
    },
    {
      "cell_type": "code",
      "metadata": {
        "id": "J5aPX3q6769_"
      },
      "source": [
        "df_all.drop(labels=[\"fareX\"],inplace=True, axis=1)"
      ],
      "execution_count": 110,
      "outputs": []
    },
    {
      "cell_type": "code",
      "metadata": {
        "id": "k8zJPD8MYqOv"
      },
      "source": [
        "df_all.to_csv(\"submission_29.csv\")"
      ],
      "execution_count": 111,
      "outputs": []
    },
    {
      "cell_type": "code",
      "metadata": {
        "id": "j8Dx32_1bnTA"
      },
      "source": [
        ""
      ],
      "execution_count": 111,
      "outputs": []
    },
    {
      "cell_type": "code",
      "metadata": {
        "id": "k9kUnPdFY8QN",
        "colab": {
          "base_uri": "https://localhost:8080/"
        },
        "outputId": "02fdcb32-9197-496f-829a-ceb7e324082d"
      },
      "source": [
        "! head submission_29.csv"
      ],
      "execution_count": 112,
      "outputs": [
        {
          "output_type": "stream",
          "text": [
            "index,fare\n",
            "0,11.501850128173828\n",
            "1,26.4396915435791\n",
            "2,16.255634307861328\n",
            "3,13.223508834838867\n",
            "4,10.0\n",
            "5,9.34630012512207\n",
            "6,5.0\n",
            "7,7.0\n",
            "8,28.31490707397461\n"
          ],
          "name": "stdout"
        }
      ]
    }
  ]
}